{
  "nbformat": 4,
  "nbformat_minor": 0,
  "metadata": {
    "colab": {
      "provenance": [],
      "authorship_tag": "ABX9TyPJ2PSC1zfiU/B//wf7A5ez",
      "include_colab_link": true
    },
    "kernelspec": {
      "name": "python3",
      "display_name": "Python 3"
    },
    "language_info": {
      "name": "python"
    }
  },
  "cells": [
    {
      "cell_type": "markdown",
      "metadata": {
        "id": "view-in-github",
        "colab_type": "text"
      },
      "source": [
        "<a href=\"https://colab.research.google.com/github/HamidBekamiri/Microeconomics/blob/main/Housing_Market_v5_simple.ipynb\" target=\"_parent\"><img src=\"https://colab.research.google.com/assets/colab-badge.svg\" alt=\"Open In Colab\"/></a>"
      ]
    },
    {
      "cell_type": "markdown",
      "source": [
        "# Hands-on Project: Analyzing the Impact of Individual Features on House Prices"
      ],
      "metadata": {
        "id": "5GsEQvJqleLe"
      }
    },
    {
      "cell_type": "markdown",
      "source": [
        "\n",
        "<img src=\"https://media.proglib.io/posts/2021/09/10/d412926065f9e7609c7129fed6c20bd3.png\" alt=\"Image\" width=\"1200\" height=\"350\"/>"
      ],
      "metadata": {
        "id": "fSkiXIN3_sB1"
      }
    },
    {
      "cell_type": "markdown",
      "source": [
        "In this hands-on project, we will analyze a dataset related to housing prices. We will perform various data analysis and modeling tasks to understand how different features or variables impact the prices of houses.\n",
        "\n",
        "In microeconomics,  the utility maximization and demand theory concepts can be implied to understand and quantify the relationships among economic variables uisng statistical methods like regression analysis. When analyzing housing prices, for instance, the application effectively becomes a study in hedonic pricing theory. This theory decomposes the item under study (a house, in this case) into its constituent characteristics and estimates the value contribution of each feature. Thus, pretinent questions arises: How to determine the value of a house? Is it just bricks and mortar, or is it a composite of various features like location, number of rooms, and even neighborhood safety? How can microeconomic tools help us understand this complexity and guide policy decisions?"
      ],
      "metadata": {
        "id": "TH2m-epyBAO2"
      }
    },
    {
      "cell_type": "markdown",
      "source": [
        "## Project Objective:\n",
        "- Analyze the dataset to determine how individual features affect housing prices.\n",
        "- Perform linear regression analysis to estimate housing prices.\n",
        "- Calculate the Marginal Rate of Substitution (MRS) between selected features.\n",
        "- Cluster the data to identify structural breaks and analyze differences in pricing factors."
      ],
      "metadata": {
        "id": "rsIZGzI5qH_e"
      }
    },
    {
      "cell_type": "markdown",
      "source": [
        "## Main Question:\n",
        "> How do individual features like location impact the price of a house, and how can microeconomics theories help us understand and quantify this?"
      ],
      "metadata": {
        "id": "Rfru3Gzq_1pp"
      }
    },
    {
      "cell_type": "code",
      "execution_count": 1,
      "metadata": {
        "id": "mZPMVQCPwA89"
      },
      "outputs": [],
      "source": [
        "import numpy as np\n",
        "import pandas as pd\n",
        "import seaborn as sns\n",
        "import matplotlib.pyplot as plt\n",
        "import warnings\n",
        "\n",
        "df = pd.read_csv('https://raw.githubusercontent.com/selva86/datasets/master/BostonHousing.csv')"
      ]
    },
    {
      "cell_type": "code",
      "source": [
        "df.shape"
      ],
      "metadata": {
        "colab": {
          "base_uri": "https://localhost:8080/"
        },
        "id": "mh_T3RPbwF54",
        "outputId": "73966483-8d83-451b-f265-497d5fedb0fc"
      },
      "execution_count": 2,
      "outputs": [
        {
          "output_type": "execute_result",
          "data": {
            "text/plain": [
              "(506, 14)"
            ]
          },
          "metadata": {},
          "execution_count": 2
        }
      ]
    },
    {
      "cell_type": "markdown",
      "source": [
        "# 1. Data Understanding\n",
        "A dataset where each line is treated as an observed optimal choice by a representative rational consumer at one point in time. The data line has the amounts of each of 13 different goods bought by the consumer (e.g., crime, zn, and age, etc.) and the total price of this bundle of goods (medv)."
      ],
      "metadata": {
        "id": "5FhmWM5hEbbj"
      }
    },
    {
      "cell_type": "code",
      "source": [
        "df.head()"
      ],
      "metadata": {
        "colab": {
          "base_uri": "https://localhost:8080/",
          "height": 206
        },
        "id": "qNzvIXt9wIL4",
        "outputId": "4a390b37-e2ca-43af-82d4-5640eb53834b"
      },
      "execution_count": 3,
      "outputs": [
        {
          "output_type": "execute_result",
          "data": {
            "text/plain": [
              "      crim    zn  indus  chas    nox     rm   age     dis  rad  tax  ptratio  \\\n",
              "0  0.00632  18.0   2.31     0  0.538  6.575  65.2  4.0900    1  296     15.3   \n",
              "1  0.02731   0.0   7.07     0  0.469  6.421  78.9  4.9671    2  242     17.8   \n",
              "2  0.02729   0.0   7.07     0  0.469  7.185  61.1  4.9671    2  242     17.8   \n",
              "3  0.03237   0.0   2.18     0  0.458  6.998  45.8  6.0622    3  222     18.7   \n",
              "4  0.06905   0.0   2.18     0  0.458  7.147  54.2  6.0622    3  222     18.7   \n",
              "\n",
              "        b  lstat  medv  \n",
              "0  396.90   4.98  24.0  \n",
              "1  396.90   9.14  21.6  \n",
              "2  392.83   4.03  34.7  \n",
              "3  394.63   2.94  33.4  \n",
              "4  396.90   5.33  36.2  "
            ],
            "text/html": [
              "\n",
              "  <div id=\"df-0f84d269-87e3-4161-a9f8-4953de1d05d3\" class=\"colab-df-container\">\n",
              "    <div>\n",
              "<style scoped>\n",
              "    .dataframe tbody tr th:only-of-type {\n",
              "        vertical-align: middle;\n",
              "    }\n",
              "\n",
              "    .dataframe tbody tr th {\n",
              "        vertical-align: top;\n",
              "    }\n",
              "\n",
              "    .dataframe thead th {\n",
              "        text-align: right;\n",
              "    }\n",
              "</style>\n",
              "<table border=\"1\" class=\"dataframe\">\n",
              "  <thead>\n",
              "    <tr style=\"text-align: right;\">\n",
              "      <th></th>\n",
              "      <th>crim</th>\n",
              "      <th>zn</th>\n",
              "      <th>indus</th>\n",
              "      <th>chas</th>\n",
              "      <th>nox</th>\n",
              "      <th>rm</th>\n",
              "      <th>age</th>\n",
              "      <th>dis</th>\n",
              "      <th>rad</th>\n",
              "      <th>tax</th>\n",
              "      <th>ptratio</th>\n",
              "      <th>b</th>\n",
              "      <th>lstat</th>\n",
              "      <th>medv</th>\n",
              "    </tr>\n",
              "  </thead>\n",
              "  <tbody>\n",
              "    <tr>\n",
              "      <th>0</th>\n",
              "      <td>0.00632</td>\n",
              "      <td>18.0</td>\n",
              "      <td>2.31</td>\n",
              "      <td>0</td>\n",
              "      <td>0.538</td>\n",
              "      <td>6.575</td>\n",
              "      <td>65.2</td>\n",
              "      <td>4.0900</td>\n",
              "      <td>1</td>\n",
              "      <td>296</td>\n",
              "      <td>15.3</td>\n",
              "      <td>396.90</td>\n",
              "      <td>4.98</td>\n",
              "      <td>24.0</td>\n",
              "    </tr>\n",
              "    <tr>\n",
              "      <th>1</th>\n",
              "      <td>0.02731</td>\n",
              "      <td>0.0</td>\n",
              "      <td>7.07</td>\n",
              "      <td>0</td>\n",
              "      <td>0.469</td>\n",
              "      <td>6.421</td>\n",
              "      <td>78.9</td>\n",
              "      <td>4.9671</td>\n",
              "      <td>2</td>\n",
              "      <td>242</td>\n",
              "      <td>17.8</td>\n",
              "      <td>396.90</td>\n",
              "      <td>9.14</td>\n",
              "      <td>21.6</td>\n",
              "    </tr>\n",
              "    <tr>\n",
              "      <th>2</th>\n",
              "      <td>0.02729</td>\n",
              "      <td>0.0</td>\n",
              "      <td>7.07</td>\n",
              "      <td>0</td>\n",
              "      <td>0.469</td>\n",
              "      <td>7.185</td>\n",
              "      <td>61.1</td>\n",
              "      <td>4.9671</td>\n",
              "      <td>2</td>\n",
              "      <td>242</td>\n",
              "      <td>17.8</td>\n",
              "      <td>392.83</td>\n",
              "      <td>4.03</td>\n",
              "      <td>34.7</td>\n",
              "    </tr>\n",
              "    <tr>\n",
              "      <th>3</th>\n",
              "      <td>0.03237</td>\n",
              "      <td>0.0</td>\n",
              "      <td>2.18</td>\n",
              "      <td>0</td>\n",
              "      <td>0.458</td>\n",
              "      <td>6.998</td>\n",
              "      <td>45.8</td>\n",
              "      <td>6.0622</td>\n",
              "      <td>3</td>\n",
              "      <td>222</td>\n",
              "      <td>18.7</td>\n",
              "      <td>394.63</td>\n",
              "      <td>2.94</td>\n",
              "      <td>33.4</td>\n",
              "    </tr>\n",
              "    <tr>\n",
              "      <th>4</th>\n",
              "      <td>0.06905</td>\n",
              "      <td>0.0</td>\n",
              "      <td>2.18</td>\n",
              "      <td>0</td>\n",
              "      <td>0.458</td>\n",
              "      <td>7.147</td>\n",
              "      <td>54.2</td>\n",
              "      <td>6.0622</td>\n",
              "      <td>3</td>\n",
              "      <td>222</td>\n",
              "      <td>18.7</td>\n",
              "      <td>396.90</td>\n",
              "      <td>5.33</td>\n",
              "      <td>36.2</td>\n",
              "    </tr>\n",
              "  </tbody>\n",
              "</table>\n",
              "</div>\n",
              "    <div class=\"colab-df-buttons\">\n",
              "\n",
              "  <div class=\"colab-df-container\">\n",
              "    <button class=\"colab-df-convert\" onclick=\"convertToInteractive('df-0f84d269-87e3-4161-a9f8-4953de1d05d3')\"\n",
              "            title=\"Convert this dataframe to an interactive table.\"\n",
              "            style=\"display:none;\">\n",
              "\n",
              "  <svg xmlns=\"http://www.w3.org/2000/svg\" height=\"24px\" viewBox=\"0 -960 960 960\">\n",
              "    <path d=\"M120-120v-720h720v720H120Zm60-500h600v-160H180v160Zm220 220h160v-160H400v160Zm0 220h160v-160H400v160ZM180-400h160v-160H180v160Zm440 0h160v-160H620v160ZM180-180h160v-160H180v160Zm440 0h160v-160H620v160Z\"/>\n",
              "  </svg>\n",
              "    </button>\n",
              "\n",
              "  <style>\n",
              "    .colab-df-container {\n",
              "      display:flex;\n",
              "      gap: 12px;\n",
              "    }\n",
              "\n",
              "    .colab-df-convert {\n",
              "      background-color: #E8F0FE;\n",
              "      border: none;\n",
              "      border-radius: 50%;\n",
              "      cursor: pointer;\n",
              "      display: none;\n",
              "      fill: #1967D2;\n",
              "      height: 32px;\n",
              "      padding: 0 0 0 0;\n",
              "      width: 32px;\n",
              "    }\n",
              "\n",
              "    .colab-df-convert:hover {\n",
              "      background-color: #E2EBFA;\n",
              "      box-shadow: 0px 1px 2px rgba(60, 64, 67, 0.3), 0px 1px 3px 1px rgba(60, 64, 67, 0.15);\n",
              "      fill: #174EA6;\n",
              "    }\n",
              "\n",
              "    .colab-df-buttons div {\n",
              "      margin-bottom: 4px;\n",
              "    }\n",
              "\n",
              "    [theme=dark] .colab-df-convert {\n",
              "      background-color: #3B4455;\n",
              "      fill: #D2E3FC;\n",
              "    }\n",
              "\n",
              "    [theme=dark] .colab-df-convert:hover {\n",
              "      background-color: #434B5C;\n",
              "      box-shadow: 0px 1px 3px 1px rgba(0, 0, 0, 0.15);\n",
              "      filter: drop-shadow(0px 1px 2px rgba(0, 0, 0, 0.3));\n",
              "      fill: #FFFFFF;\n",
              "    }\n",
              "  </style>\n",
              "\n",
              "    <script>\n",
              "      const buttonEl =\n",
              "        document.querySelector('#df-0f84d269-87e3-4161-a9f8-4953de1d05d3 button.colab-df-convert');\n",
              "      buttonEl.style.display =\n",
              "        google.colab.kernel.accessAllowed ? 'block' : 'none';\n",
              "\n",
              "      async function convertToInteractive(key) {\n",
              "        const element = document.querySelector('#df-0f84d269-87e3-4161-a9f8-4953de1d05d3');\n",
              "        const dataTable =\n",
              "          await google.colab.kernel.invokeFunction('convertToInteractive',\n",
              "                                                    [key], {});\n",
              "        if (!dataTable) return;\n",
              "\n",
              "        const docLinkHtml = 'Like what you see? Visit the ' +\n",
              "          '<a target=\"_blank\" href=https://colab.research.google.com/notebooks/data_table.ipynb>data table notebook</a>'\n",
              "          + ' to learn more about interactive tables.';\n",
              "        element.innerHTML = '';\n",
              "        dataTable['output_type'] = 'display_data';\n",
              "        await google.colab.output.renderOutput(dataTable, element);\n",
              "        const docLink = document.createElement('div');\n",
              "        docLink.innerHTML = docLinkHtml;\n",
              "        element.appendChild(docLink);\n",
              "      }\n",
              "    </script>\n",
              "  </div>\n",
              "\n",
              "\n",
              "<div id=\"df-3f999fe3-ebc8-4482-94c6-87d59ba935d5\">\n",
              "  <button class=\"colab-df-quickchart\" onclick=\"quickchart('df-3f999fe3-ebc8-4482-94c6-87d59ba935d5')\"\n",
              "            title=\"Suggest charts.\"\n",
              "            style=\"display:none;\">\n",
              "\n",
              "<svg xmlns=\"http://www.w3.org/2000/svg\" height=\"24px\"viewBox=\"0 0 24 24\"\n",
              "     width=\"24px\">\n",
              "    <g>\n",
              "        <path d=\"M19 3H5c-1.1 0-2 .9-2 2v14c0 1.1.9 2 2 2h14c1.1 0 2-.9 2-2V5c0-1.1-.9-2-2-2zM9 17H7v-7h2v7zm4 0h-2V7h2v10zm4 0h-2v-4h2v4z\"/>\n",
              "    </g>\n",
              "</svg>\n",
              "  </button>\n",
              "\n",
              "<style>\n",
              "  .colab-df-quickchart {\n",
              "      --bg-color: #E8F0FE;\n",
              "      --fill-color: #1967D2;\n",
              "      --hover-bg-color: #E2EBFA;\n",
              "      --hover-fill-color: #174EA6;\n",
              "      --disabled-fill-color: #AAA;\n",
              "      --disabled-bg-color: #DDD;\n",
              "  }\n",
              "\n",
              "  [theme=dark] .colab-df-quickchart {\n",
              "      --bg-color: #3B4455;\n",
              "      --fill-color: #D2E3FC;\n",
              "      --hover-bg-color: #434B5C;\n",
              "      --hover-fill-color: #FFFFFF;\n",
              "      --disabled-bg-color: #3B4455;\n",
              "      --disabled-fill-color: #666;\n",
              "  }\n",
              "\n",
              "  .colab-df-quickchart {\n",
              "    background-color: var(--bg-color);\n",
              "    border: none;\n",
              "    border-radius: 50%;\n",
              "    cursor: pointer;\n",
              "    display: none;\n",
              "    fill: var(--fill-color);\n",
              "    height: 32px;\n",
              "    padding: 0;\n",
              "    width: 32px;\n",
              "  }\n",
              "\n",
              "  .colab-df-quickchart:hover {\n",
              "    background-color: var(--hover-bg-color);\n",
              "    box-shadow: 0 1px 2px rgba(60, 64, 67, 0.3), 0 1px 3px 1px rgba(60, 64, 67, 0.15);\n",
              "    fill: var(--button-hover-fill-color);\n",
              "  }\n",
              "\n",
              "  .colab-df-quickchart-complete:disabled,\n",
              "  .colab-df-quickchart-complete:disabled:hover {\n",
              "    background-color: var(--disabled-bg-color);\n",
              "    fill: var(--disabled-fill-color);\n",
              "    box-shadow: none;\n",
              "  }\n",
              "\n",
              "  .colab-df-spinner {\n",
              "    border: 2px solid var(--fill-color);\n",
              "    border-color: transparent;\n",
              "    border-bottom-color: var(--fill-color);\n",
              "    animation:\n",
              "      spin 1s steps(1) infinite;\n",
              "  }\n",
              "\n",
              "  @keyframes spin {\n",
              "    0% {\n",
              "      border-color: transparent;\n",
              "      border-bottom-color: var(--fill-color);\n",
              "      border-left-color: var(--fill-color);\n",
              "    }\n",
              "    20% {\n",
              "      border-color: transparent;\n",
              "      border-left-color: var(--fill-color);\n",
              "      border-top-color: var(--fill-color);\n",
              "    }\n",
              "    30% {\n",
              "      border-color: transparent;\n",
              "      border-left-color: var(--fill-color);\n",
              "      border-top-color: var(--fill-color);\n",
              "      border-right-color: var(--fill-color);\n",
              "    }\n",
              "    40% {\n",
              "      border-color: transparent;\n",
              "      border-right-color: var(--fill-color);\n",
              "      border-top-color: var(--fill-color);\n",
              "    }\n",
              "    60% {\n",
              "      border-color: transparent;\n",
              "      border-right-color: var(--fill-color);\n",
              "    }\n",
              "    80% {\n",
              "      border-color: transparent;\n",
              "      border-right-color: var(--fill-color);\n",
              "      border-bottom-color: var(--fill-color);\n",
              "    }\n",
              "    90% {\n",
              "      border-color: transparent;\n",
              "      border-bottom-color: var(--fill-color);\n",
              "    }\n",
              "  }\n",
              "</style>\n",
              "\n",
              "  <script>\n",
              "    async function quickchart(key) {\n",
              "      const quickchartButtonEl =\n",
              "        document.querySelector('#' + key + ' button');\n",
              "      quickchartButtonEl.disabled = true;  // To prevent multiple clicks.\n",
              "      quickchartButtonEl.classList.add('colab-df-spinner');\n",
              "      try {\n",
              "        const charts = await google.colab.kernel.invokeFunction(\n",
              "            'suggestCharts', [key], {});\n",
              "      } catch (error) {\n",
              "        console.error('Error during call to suggestCharts:', error);\n",
              "      }\n",
              "      quickchartButtonEl.classList.remove('colab-df-spinner');\n",
              "      quickchartButtonEl.classList.add('colab-df-quickchart-complete');\n",
              "    }\n",
              "    (() => {\n",
              "      let quickchartButtonEl =\n",
              "        document.querySelector('#df-3f999fe3-ebc8-4482-94c6-87d59ba935d5 button');\n",
              "      quickchartButtonEl.style.display =\n",
              "        google.colab.kernel.accessAllowed ? 'block' : 'none';\n",
              "    })();\n",
              "  </script>\n",
              "</div>\n",
              "    </div>\n",
              "  </div>\n"
            ]
          },
          "metadata": {},
          "execution_count": 3
        }
      ]
    },
    {
      "cell_type": "markdown",
      "source": [
        "*  CRIM: per capita crime rate in a town, which is calculated as the number of crimes per 100,000 residents\n",
        "*  ZN: proportion of residential land zoned for large lots\n",
        "*  INDUS: proportion of non-retail business acres in a town\n",
        "*  CHAS: dummy variable for whether a town borders the Charles River (1 for yes, 0 for no)\n",
        "*  NOX: nitric oxides concentration (parts per 10 million)\n",
        "*  RM: average number of rooms per dwelling\n",
        "*  AGE: proportion of owner-occupied units built before 1940\n",
        "*  DIS: weighted distances to five Boston employment centers\n",
        "*  RAD: index of accessibility to radial highways\n",
        "*  TAX: full-value property-tax rate per $10,000\n",
        "*  PTRATIO: pupil-teacher ratio by town\n",
        "*  B: index of racial composition (B is the proportion of non-whites in a town)\n",
        "*  LSTAT: percentage of lower-status population\n",
        "*  MEDV: median value of owner-occupied homes in thousands of dollar"
      ],
      "metadata": {
        "id": "6SgZIsdFIv02"
      }
    },
    {
      "cell_type": "markdown",
      "source": [
        "## Exercise 1:\n",
        "\n",
        "> Identify which factors positively and negatively affect housing demand and the median value of owner-occupied homes in a particular area."
      ],
      "metadata": {
        "id": "y9ZUqIvlNiyI"
      }
    },
    {
      "cell_type": "markdown",
      "source": [
        "# 2. Finding (Average) Prices Using Multiple Linear Regression (OLS)\n",
        "\n"
      ],
      "metadata": {
        "id": "Q6ykydJoGpsq"
      }
    },
    {
      "cell_type": "markdown",
      "source": [
        "Formula for Multiple Linear Regression using the Boston Housing Dataset:\n",
        "```\n",
        "MEDV = β0 + β1 × CRIM + β2 × ZN + β3 × INDUS + ... + β13 × LSTAT + ε\n",
        "```\n",
        "Where:\n",
        "\n",
        "- MEDV: Median value of owner-occupied homes (dependent variable)\n",
        "- CRIM, ZN, INDUS, ..., LSTAT: Independent variables from the dataset. such as per capita crime rate, proportion of residential land zoned for large lots, and so on.\n",
        "- β0, β1, ..., β13: Coefficients for the intercept and the independent variables, respectively. These are the values that the regression model will estimate.\n",
        "- ε: is the error term, representing the portion of\n",
        "MEDV that cannot be explained by the independent variables.\n",
        "\n",
        "The goal of Ordinary Least Squares (OLS) in this context:\n",
        "```\n",
        "Minimize ∑(MEDV_i - (β0 + β1 × CRIM_i + β2 × ZN_i + ... + β13 × LSTAT_i))^2\n",
        "```\n",
        "This formula represents the sum of squared differences (or \"errors\") between the observed values (actual MEDV data points) and the values predicted by the model.\n"
      ],
      "metadata": {
        "id": "r2Uz13pysTDa"
      }
    },
    {
      "cell_type": "markdown",
      "source": [
        "#### 2.1. Univariate Analysis\n",
        "\n",
        "Univariate analysis involves the analysis of a single variable. It is used to describe the distribution of a single variable, such as its central tendency (mean, median, mode) and dispersion (variance, standard deviation). Univariate analysis can also be used to test hypotheses about a single variable, such as whether the mean of a population is equal to a certain value.\n"
      ],
      "metadata": {
        "id": "Btaw3urZe9Ma"
      }
    },
    {
      "cell_type": "code",
      "source": [
        "df.describe().T"
      ],
      "metadata": {
        "colab": {
          "base_uri": "https://localhost:8080/",
          "height": 488
        },
        "id": "06PC3BBewKsG",
        "outputId": "5e6e0d91-3c93-4c80-ebf9-8d64c8949c16"
      },
      "execution_count": 4,
      "outputs": [
        {
          "output_type": "execute_result",
          "data": {
            "text/plain": [
              "         count        mean         std        min         25%        50%  \\\n",
              "crim     506.0    3.613524    8.601545    0.00632    0.082045    0.25651   \n",
              "zn       506.0   11.363636   23.322453    0.00000    0.000000    0.00000   \n",
              "indus    506.0   11.136779    6.860353    0.46000    5.190000    9.69000   \n",
              "chas     506.0    0.069170    0.253994    0.00000    0.000000    0.00000   \n",
              "nox      506.0    0.554695    0.115878    0.38500    0.449000    0.53800   \n",
              "rm       506.0    6.284634    0.702617    3.56100    5.885500    6.20850   \n",
              "age      506.0   68.574901   28.148861    2.90000   45.025000   77.50000   \n",
              "dis      506.0    3.795043    2.105710    1.12960    2.100175    3.20745   \n",
              "rad      506.0    9.549407    8.707259    1.00000    4.000000    5.00000   \n",
              "tax      506.0  408.237154  168.537116  187.00000  279.000000  330.00000   \n",
              "ptratio  506.0   18.455534    2.164946   12.60000   17.400000   19.05000   \n",
              "b        506.0  356.674032   91.294864    0.32000  375.377500  391.44000   \n",
              "lstat    506.0   12.653063    7.141062    1.73000    6.950000   11.36000   \n",
              "medv     506.0   22.532806    9.197104    5.00000   17.025000   21.20000   \n",
              "\n",
              "                75%       max  \n",
              "crim       3.677083   88.9762  \n",
              "zn        12.500000  100.0000  \n",
              "indus     18.100000   27.7400  \n",
              "chas       0.000000    1.0000  \n",
              "nox        0.624000    0.8710  \n",
              "rm         6.623500    8.7800  \n",
              "age       94.075000  100.0000  \n",
              "dis        5.188425   12.1265  \n",
              "rad       24.000000   24.0000  \n",
              "tax      666.000000  711.0000  \n",
              "ptratio   20.200000   22.0000  \n",
              "b        396.225000  396.9000  \n",
              "lstat     16.955000   37.9700  \n",
              "medv      25.000000   50.0000  "
            ],
            "text/html": [
              "\n",
              "  <div id=\"df-ce3c8314-5da8-4adc-8c61-899338e87c5d\" class=\"colab-df-container\">\n",
              "    <div>\n",
              "<style scoped>\n",
              "    .dataframe tbody tr th:only-of-type {\n",
              "        vertical-align: middle;\n",
              "    }\n",
              "\n",
              "    .dataframe tbody tr th {\n",
              "        vertical-align: top;\n",
              "    }\n",
              "\n",
              "    .dataframe thead th {\n",
              "        text-align: right;\n",
              "    }\n",
              "</style>\n",
              "<table border=\"1\" class=\"dataframe\">\n",
              "  <thead>\n",
              "    <tr style=\"text-align: right;\">\n",
              "      <th></th>\n",
              "      <th>count</th>\n",
              "      <th>mean</th>\n",
              "      <th>std</th>\n",
              "      <th>min</th>\n",
              "      <th>25%</th>\n",
              "      <th>50%</th>\n",
              "      <th>75%</th>\n",
              "      <th>max</th>\n",
              "    </tr>\n",
              "  </thead>\n",
              "  <tbody>\n",
              "    <tr>\n",
              "      <th>crim</th>\n",
              "      <td>506.0</td>\n",
              "      <td>3.613524</td>\n",
              "      <td>8.601545</td>\n",
              "      <td>0.00632</td>\n",
              "      <td>0.082045</td>\n",
              "      <td>0.25651</td>\n",
              "      <td>3.677083</td>\n",
              "      <td>88.9762</td>\n",
              "    </tr>\n",
              "    <tr>\n",
              "      <th>zn</th>\n",
              "      <td>506.0</td>\n",
              "      <td>11.363636</td>\n",
              "      <td>23.322453</td>\n",
              "      <td>0.00000</td>\n",
              "      <td>0.000000</td>\n",
              "      <td>0.00000</td>\n",
              "      <td>12.500000</td>\n",
              "      <td>100.0000</td>\n",
              "    </tr>\n",
              "    <tr>\n",
              "      <th>indus</th>\n",
              "      <td>506.0</td>\n",
              "      <td>11.136779</td>\n",
              "      <td>6.860353</td>\n",
              "      <td>0.46000</td>\n",
              "      <td>5.190000</td>\n",
              "      <td>9.69000</td>\n",
              "      <td>18.100000</td>\n",
              "      <td>27.7400</td>\n",
              "    </tr>\n",
              "    <tr>\n",
              "      <th>chas</th>\n",
              "      <td>506.0</td>\n",
              "      <td>0.069170</td>\n",
              "      <td>0.253994</td>\n",
              "      <td>0.00000</td>\n",
              "      <td>0.000000</td>\n",
              "      <td>0.00000</td>\n",
              "      <td>0.000000</td>\n",
              "      <td>1.0000</td>\n",
              "    </tr>\n",
              "    <tr>\n",
              "      <th>nox</th>\n",
              "      <td>506.0</td>\n",
              "      <td>0.554695</td>\n",
              "      <td>0.115878</td>\n",
              "      <td>0.38500</td>\n",
              "      <td>0.449000</td>\n",
              "      <td>0.53800</td>\n",
              "      <td>0.624000</td>\n",
              "      <td>0.8710</td>\n",
              "    </tr>\n",
              "    <tr>\n",
              "      <th>rm</th>\n",
              "      <td>506.0</td>\n",
              "      <td>6.284634</td>\n",
              "      <td>0.702617</td>\n",
              "      <td>3.56100</td>\n",
              "      <td>5.885500</td>\n",
              "      <td>6.20850</td>\n",
              "      <td>6.623500</td>\n",
              "      <td>8.7800</td>\n",
              "    </tr>\n",
              "    <tr>\n",
              "      <th>age</th>\n",
              "      <td>506.0</td>\n",
              "      <td>68.574901</td>\n",
              "      <td>28.148861</td>\n",
              "      <td>2.90000</td>\n",
              "      <td>45.025000</td>\n",
              "      <td>77.50000</td>\n",
              "      <td>94.075000</td>\n",
              "      <td>100.0000</td>\n",
              "    </tr>\n",
              "    <tr>\n",
              "      <th>dis</th>\n",
              "      <td>506.0</td>\n",
              "      <td>3.795043</td>\n",
              "      <td>2.105710</td>\n",
              "      <td>1.12960</td>\n",
              "      <td>2.100175</td>\n",
              "      <td>3.20745</td>\n",
              "      <td>5.188425</td>\n",
              "      <td>12.1265</td>\n",
              "    </tr>\n",
              "    <tr>\n",
              "      <th>rad</th>\n",
              "      <td>506.0</td>\n",
              "      <td>9.549407</td>\n",
              "      <td>8.707259</td>\n",
              "      <td>1.00000</td>\n",
              "      <td>4.000000</td>\n",
              "      <td>5.00000</td>\n",
              "      <td>24.000000</td>\n",
              "      <td>24.0000</td>\n",
              "    </tr>\n",
              "    <tr>\n",
              "      <th>tax</th>\n",
              "      <td>506.0</td>\n",
              "      <td>408.237154</td>\n",
              "      <td>168.537116</td>\n",
              "      <td>187.00000</td>\n",
              "      <td>279.000000</td>\n",
              "      <td>330.00000</td>\n",
              "      <td>666.000000</td>\n",
              "      <td>711.0000</td>\n",
              "    </tr>\n",
              "    <tr>\n",
              "      <th>ptratio</th>\n",
              "      <td>506.0</td>\n",
              "      <td>18.455534</td>\n",
              "      <td>2.164946</td>\n",
              "      <td>12.60000</td>\n",
              "      <td>17.400000</td>\n",
              "      <td>19.05000</td>\n",
              "      <td>20.200000</td>\n",
              "      <td>22.0000</td>\n",
              "    </tr>\n",
              "    <tr>\n",
              "      <th>b</th>\n",
              "      <td>506.0</td>\n",
              "      <td>356.674032</td>\n",
              "      <td>91.294864</td>\n",
              "      <td>0.32000</td>\n",
              "      <td>375.377500</td>\n",
              "      <td>391.44000</td>\n",
              "      <td>396.225000</td>\n",
              "      <td>396.9000</td>\n",
              "    </tr>\n",
              "    <tr>\n",
              "      <th>lstat</th>\n",
              "      <td>506.0</td>\n",
              "      <td>12.653063</td>\n",
              "      <td>7.141062</td>\n",
              "      <td>1.73000</td>\n",
              "      <td>6.950000</td>\n",
              "      <td>11.36000</td>\n",
              "      <td>16.955000</td>\n",
              "      <td>37.9700</td>\n",
              "    </tr>\n",
              "    <tr>\n",
              "      <th>medv</th>\n",
              "      <td>506.0</td>\n",
              "      <td>22.532806</td>\n",
              "      <td>9.197104</td>\n",
              "      <td>5.00000</td>\n",
              "      <td>17.025000</td>\n",
              "      <td>21.20000</td>\n",
              "      <td>25.000000</td>\n",
              "      <td>50.0000</td>\n",
              "    </tr>\n",
              "  </tbody>\n",
              "</table>\n",
              "</div>\n",
              "    <div class=\"colab-df-buttons\">\n",
              "\n",
              "  <div class=\"colab-df-container\">\n",
              "    <button class=\"colab-df-convert\" onclick=\"convertToInteractive('df-ce3c8314-5da8-4adc-8c61-899338e87c5d')\"\n",
              "            title=\"Convert this dataframe to an interactive table.\"\n",
              "            style=\"display:none;\">\n",
              "\n",
              "  <svg xmlns=\"http://www.w3.org/2000/svg\" height=\"24px\" viewBox=\"0 -960 960 960\">\n",
              "    <path d=\"M120-120v-720h720v720H120Zm60-500h600v-160H180v160Zm220 220h160v-160H400v160Zm0 220h160v-160H400v160ZM180-400h160v-160H180v160Zm440 0h160v-160H620v160ZM180-180h160v-160H180v160Zm440 0h160v-160H620v160Z\"/>\n",
              "  </svg>\n",
              "    </button>\n",
              "\n",
              "  <style>\n",
              "    .colab-df-container {\n",
              "      display:flex;\n",
              "      gap: 12px;\n",
              "    }\n",
              "\n",
              "    .colab-df-convert {\n",
              "      background-color: #E8F0FE;\n",
              "      border: none;\n",
              "      border-radius: 50%;\n",
              "      cursor: pointer;\n",
              "      display: none;\n",
              "      fill: #1967D2;\n",
              "      height: 32px;\n",
              "      padding: 0 0 0 0;\n",
              "      width: 32px;\n",
              "    }\n",
              "\n",
              "    .colab-df-convert:hover {\n",
              "      background-color: #E2EBFA;\n",
              "      box-shadow: 0px 1px 2px rgba(60, 64, 67, 0.3), 0px 1px 3px 1px rgba(60, 64, 67, 0.15);\n",
              "      fill: #174EA6;\n",
              "    }\n",
              "\n",
              "    .colab-df-buttons div {\n",
              "      margin-bottom: 4px;\n",
              "    }\n",
              "\n",
              "    [theme=dark] .colab-df-convert {\n",
              "      background-color: #3B4455;\n",
              "      fill: #D2E3FC;\n",
              "    }\n",
              "\n",
              "    [theme=dark] .colab-df-convert:hover {\n",
              "      background-color: #434B5C;\n",
              "      box-shadow: 0px 1px 3px 1px rgba(0, 0, 0, 0.15);\n",
              "      filter: drop-shadow(0px 1px 2px rgba(0, 0, 0, 0.3));\n",
              "      fill: #FFFFFF;\n",
              "    }\n",
              "  </style>\n",
              "\n",
              "    <script>\n",
              "      const buttonEl =\n",
              "        document.querySelector('#df-ce3c8314-5da8-4adc-8c61-899338e87c5d button.colab-df-convert');\n",
              "      buttonEl.style.display =\n",
              "        google.colab.kernel.accessAllowed ? 'block' : 'none';\n",
              "\n",
              "      async function convertToInteractive(key) {\n",
              "        const element = document.querySelector('#df-ce3c8314-5da8-4adc-8c61-899338e87c5d');\n",
              "        const dataTable =\n",
              "          await google.colab.kernel.invokeFunction('convertToInteractive',\n",
              "                                                    [key], {});\n",
              "        if (!dataTable) return;\n",
              "\n",
              "        const docLinkHtml = 'Like what you see? Visit the ' +\n",
              "          '<a target=\"_blank\" href=https://colab.research.google.com/notebooks/data_table.ipynb>data table notebook</a>'\n",
              "          + ' to learn more about interactive tables.';\n",
              "        element.innerHTML = '';\n",
              "        dataTable['output_type'] = 'display_data';\n",
              "        await google.colab.output.renderOutput(dataTable, element);\n",
              "        const docLink = document.createElement('div');\n",
              "        docLink.innerHTML = docLinkHtml;\n",
              "        element.appendChild(docLink);\n",
              "      }\n",
              "    </script>\n",
              "  </div>\n",
              "\n",
              "\n",
              "<div id=\"df-88164e81-306b-4ade-9964-3a256188238b\">\n",
              "  <button class=\"colab-df-quickchart\" onclick=\"quickchart('df-88164e81-306b-4ade-9964-3a256188238b')\"\n",
              "            title=\"Suggest charts.\"\n",
              "            style=\"display:none;\">\n",
              "\n",
              "<svg xmlns=\"http://www.w3.org/2000/svg\" height=\"24px\"viewBox=\"0 0 24 24\"\n",
              "     width=\"24px\">\n",
              "    <g>\n",
              "        <path d=\"M19 3H5c-1.1 0-2 .9-2 2v14c0 1.1.9 2 2 2h14c1.1 0 2-.9 2-2V5c0-1.1-.9-2-2-2zM9 17H7v-7h2v7zm4 0h-2V7h2v10zm4 0h-2v-4h2v4z\"/>\n",
              "    </g>\n",
              "</svg>\n",
              "  </button>\n",
              "\n",
              "<style>\n",
              "  .colab-df-quickchart {\n",
              "      --bg-color: #E8F0FE;\n",
              "      --fill-color: #1967D2;\n",
              "      --hover-bg-color: #E2EBFA;\n",
              "      --hover-fill-color: #174EA6;\n",
              "      --disabled-fill-color: #AAA;\n",
              "      --disabled-bg-color: #DDD;\n",
              "  }\n",
              "\n",
              "  [theme=dark] .colab-df-quickchart {\n",
              "      --bg-color: #3B4455;\n",
              "      --fill-color: #D2E3FC;\n",
              "      --hover-bg-color: #434B5C;\n",
              "      --hover-fill-color: #FFFFFF;\n",
              "      --disabled-bg-color: #3B4455;\n",
              "      --disabled-fill-color: #666;\n",
              "  }\n",
              "\n",
              "  .colab-df-quickchart {\n",
              "    background-color: var(--bg-color);\n",
              "    border: none;\n",
              "    border-radius: 50%;\n",
              "    cursor: pointer;\n",
              "    display: none;\n",
              "    fill: var(--fill-color);\n",
              "    height: 32px;\n",
              "    padding: 0;\n",
              "    width: 32px;\n",
              "  }\n",
              "\n",
              "  .colab-df-quickchart:hover {\n",
              "    background-color: var(--hover-bg-color);\n",
              "    box-shadow: 0 1px 2px rgba(60, 64, 67, 0.3), 0 1px 3px 1px rgba(60, 64, 67, 0.15);\n",
              "    fill: var(--button-hover-fill-color);\n",
              "  }\n",
              "\n",
              "  .colab-df-quickchart-complete:disabled,\n",
              "  .colab-df-quickchart-complete:disabled:hover {\n",
              "    background-color: var(--disabled-bg-color);\n",
              "    fill: var(--disabled-fill-color);\n",
              "    box-shadow: none;\n",
              "  }\n",
              "\n",
              "  .colab-df-spinner {\n",
              "    border: 2px solid var(--fill-color);\n",
              "    border-color: transparent;\n",
              "    border-bottom-color: var(--fill-color);\n",
              "    animation:\n",
              "      spin 1s steps(1) infinite;\n",
              "  }\n",
              "\n",
              "  @keyframes spin {\n",
              "    0% {\n",
              "      border-color: transparent;\n",
              "      border-bottom-color: var(--fill-color);\n",
              "      border-left-color: var(--fill-color);\n",
              "    }\n",
              "    20% {\n",
              "      border-color: transparent;\n",
              "      border-left-color: var(--fill-color);\n",
              "      border-top-color: var(--fill-color);\n",
              "    }\n",
              "    30% {\n",
              "      border-color: transparent;\n",
              "      border-left-color: var(--fill-color);\n",
              "      border-top-color: var(--fill-color);\n",
              "      border-right-color: var(--fill-color);\n",
              "    }\n",
              "    40% {\n",
              "      border-color: transparent;\n",
              "      border-right-color: var(--fill-color);\n",
              "      border-top-color: var(--fill-color);\n",
              "    }\n",
              "    60% {\n",
              "      border-color: transparent;\n",
              "      border-right-color: var(--fill-color);\n",
              "    }\n",
              "    80% {\n",
              "      border-color: transparent;\n",
              "      border-right-color: var(--fill-color);\n",
              "      border-bottom-color: var(--fill-color);\n",
              "    }\n",
              "    90% {\n",
              "      border-color: transparent;\n",
              "      border-bottom-color: var(--fill-color);\n",
              "    }\n",
              "  }\n",
              "</style>\n",
              "\n",
              "  <script>\n",
              "    async function quickchart(key) {\n",
              "      const quickchartButtonEl =\n",
              "        document.querySelector('#' + key + ' button');\n",
              "      quickchartButtonEl.disabled = true;  // To prevent multiple clicks.\n",
              "      quickchartButtonEl.classList.add('colab-df-spinner');\n",
              "      try {\n",
              "        const charts = await google.colab.kernel.invokeFunction(\n",
              "            'suggestCharts', [key], {});\n",
              "      } catch (error) {\n",
              "        console.error('Error during call to suggestCharts:', error);\n",
              "      }\n",
              "      quickchartButtonEl.classList.remove('colab-df-spinner');\n",
              "      quickchartButtonEl.classList.add('colab-df-quickchart-complete');\n",
              "    }\n",
              "    (() => {\n",
              "      let quickchartButtonEl =\n",
              "        document.querySelector('#df-88164e81-306b-4ade-9964-3a256188238b button');\n",
              "      quickchartButtonEl.style.display =\n",
              "        google.colab.kernel.accessAllowed ? 'block' : 'none';\n",
              "    })();\n",
              "  </script>\n",
              "</div>\n",
              "    </div>\n",
              "  </div>\n"
            ]
          },
          "metadata": {},
          "execution_count": 4
        }
      ]
    },
    {
      "cell_type": "markdown",
      "source": [
        "#### 2.2. Bivariate Analysis\n",
        "Bivariate analysis involves the analysis of two variables. It is used to study the relationship between two variables, such as whether there is a correlation between two variables or whether one variable can be used to predict another variable. Bivariate analysis can be used to create graphs and charts to visualize the relationship between two variables, and to perform statistical tests to measure the strength of the relationship.\n"
      ],
      "metadata": {
        "id": "_OrZIl-MfOoF"
      }
    },
    {
      "cell_type": "code",
      "source": [
        "plt.figure(figsize=(20, 10))\n",
        "sns.heatmap(df.corr().abs(),  annot=True)"
      ],
      "metadata": {
        "colab": {
          "base_uri": "https://localhost:8080/",
          "height": 697
        },
        "id": "KM6leMDMK2KR",
        "outputId": "60a986b2-59e3-41c8-c7eb-8c83771a11a9"
      },
      "execution_count": 5,
      "outputs": [
        {
          "output_type": "execute_result",
          "data": {
            "text/plain": [
              "<Axes: >"
            ]
          },
          "metadata": {},
          "execution_count": 5
        },
        {
          "output_type": "display_data",
          "data": {
            "text/plain": [
              "<Figure size 2000x1000 with 2 Axes>"
            ],
            "image/png": "[encoded data removed]"
          },
          "metadata": {}
        }
      ]
    },
    {
      "cell_type": "markdown",
      "source": [
        "> #### Domain Knowledge\n",
        "\n",
        "We decided to continue with these selected columns based on domain knowledge."
      ],
      "metadata": {
        "id": "Hh1p97WzfjMC"
      }
    },
    {
      "cell_type": "code",
      "source": [
        "df_v1 = df[['crim', 'zn', 'indus', 'chas', 'dis', 'lstat', 'medv']]\n",
        "df_v1"
      ],
      "metadata": {
        "colab": {
          "base_uri": "https://localhost:8080/",
          "height": 423
        },
        "id": "Go1taRcmfdkh",
        "outputId": "7dd63147-5763-4b8c-aebd-2a5c4f4cd64d"
      },
      "execution_count": 6,
      "outputs": [
        {
          "output_type": "execute_result",
          "data": {
            "text/plain": [
              "        crim    zn  indus  chas     dis  lstat  medv\n",
              "0    0.00632  18.0   2.31     0  4.0900   4.98  24.0\n",
              "1    0.02731   0.0   7.07     0  4.9671   9.14  21.6\n",
              "2    0.02729   0.0   7.07     0  4.9671   4.03  34.7\n",
              "3    0.03237   0.0   2.18     0  6.0622   2.94  33.4\n",
              "4    0.06905   0.0   2.18     0  6.0622   5.33  36.2\n",
              "..       ...   ...    ...   ...     ...    ...   ...\n",
              "501  0.06263   0.0  11.93     0  2.4786   9.67  22.4\n",
              "502  0.04527   0.0  11.93     0  2.2875   9.08  20.6\n",
              "503  0.06076   0.0  11.93     0  2.1675   5.64  23.9\n",
              "504  0.10959   0.0  11.93     0  2.3889   6.48  22.0\n",
              "505  0.04741   0.0  11.93     0  2.5050   7.88  11.9\n",
              "\n",
              "[506 rows x 7 columns]"
            ],
            "text/html": [
              "\n",
              "  <div id=\"df-f00b962a-8253-449f-8e96-76fa7f2abff5\" class=\"colab-df-container\">\n",
              "    <div>\n",
              "<style scoped>\n",
              "    .dataframe tbody tr th:only-of-type {\n",
              "        vertical-align: middle;\n",
              "    }\n",
              "\n",
              "    .dataframe tbody tr th {\n",
              "        vertical-align: top;\n",
              "    }\n",
              "\n",
              "    .dataframe thead th {\n",
              "        text-align: right;\n",
              "    }\n",
              "</style>\n",
              "<table border=\"1\" class=\"dataframe\">\n",
              "  <thead>\n",
              "    <tr style=\"text-align: right;\">\n",
              "      <th></th>\n",
              "      <th>crim</th>\n",
              "      <th>zn</th>\n",
              "      <th>indus</th>\n",
              "      <th>chas</th>\n",
              "      <th>dis</th>\n",
              "      <th>lstat</th>\n",
              "      <th>medv</th>\n",
              "    </tr>\n",
              "  </thead>\n",
              "  <tbody>\n",
              "    <tr>\n",
              "      <th>0</th>\n",
              "      <td>0.00632</td>\n",
              "      <td>18.0</td>\n",
              "      <td>2.31</td>\n",
              "      <td>0</td>\n",
              "      <td>4.0900</td>\n",
              "      <td>4.98</td>\n",
              "      <td>24.0</td>\n",
              "    </tr>\n",
              "    <tr>\n",
              "      <th>1</th>\n",
              "      <td>0.02731</td>\n",
              "      <td>0.0</td>\n",
              "      <td>7.07</td>\n",
              "      <td>0</td>\n",
              "      <td>4.9671</td>\n",
              "      <td>9.14</td>\n",
              "      <td>21.6</td>\n",
              "    </tr>\n",
              "    <tr>\n",
              "      <th>2</th>\n",
              "      <td>0.02729</td>\n",
              "      <td>0.0</td>\n",
              "      <td>7.07</td>\n",
              "      <td>0</td>\n",
              "      <td>4.9671</td>\n",
              "      <td>4.03</td>\n",
              "      <td>34.7</td>\n",
              "    </tr>\n",
              "    <tr>\n",
              "      <th>3</th>\n",
              "      <td>0.03237</td>\n",
              "      <td>0.0</td>\n",
              "      <td>2.18</td>\n",
              "      <td>0</td>\n",
              "      <td>6.0622</td>\n",
              "      <td>2.94</td>\n",
              "      <td>33.4</td>\n",
              "    </tr>\n",
              "    <tr>\n",
              "      <th>4</th>\n",
              "      <td>0.06905</td>\n",
              "      <td>0.0</td>\n",
              "      <td>2.18</td>\n",
              "      <td>0</td>\n",
              "      <td>6.0622</td>\n",
              "      <td>5.33</td>\n",
              "      <td>36.2</td>\n",
              "    </tr>\n",
              "    <tr>\n",
              "      <th>...</th>\n",
              "      <td>...</td>\n",
              "      <td>...</td>\n",
              "      <td>...</td>\n",
              "      <td>...</td>\n",
              "      <td>...</td>\n",
              "      <td>...</td>\n",
              "      <td>...</td>\n",
              "    </tr>\n",
              "    <tr>\n",
              "      <th>501</th>\n",
              "      <td>0.06263</td>\n",
              "      <td>0.0</td>\n",
              "      <td>11.93</td>\n",
              "      <td>0</td>\n",
              "      <td>2.4786</td>\n",
              "      <td>9.67</td>\n",
              "      <td>22.4</td>\n",
              "    </tr>\n",
              "    <tr>\n",
              "      <th>502</th>\n",
              "      <td>0.04527</td>\n",
              "      <td>0.0</td>\n",
              "      <td>11.93</td>\n",
              "      <td>0</td>\n",
              "      <td>2.2875</td>\n",
              "      <td>9.08</td>\n",
              "      <td>20.6</td>\n",
              "    </tr>\n",
              "    <tr>\n",
              "      <th>503</th>\n",
              "      <td>0.06076</td>\n",
              "      <td>0.0</td>\n",
              "      <td>11.93</td>\n",
              "      <td>0</td>\n",
              "      <td>2.1675</td>\n",
              "      <td>5.64</td>\n",
              "      <td>23.9</td>\n",
              "    </tr>\n",
              "    <tr>\n",
              "      <th>504</th>\n",
              "      <td>0.10959</td>\n",
              "      <td>0.0</td>\n",
              "      <td>11.93</td>\n",
              "      <td>0</td>\n",
              "      <td>2.3889</td>\n",
              "      <td>6.48</td>\n",
              "      <td>22.0</td>\n",
              "    </tr>\n",
              "    <tr>\n",
              "      <th>505</th>\n",
              "      <td>0.04741</td>\n",
              "      <td>0.0</td>\n",
              "      <td>11.93</td>\n",
              "      <td>0</td>\n",
              "      <td>2.5050</td>\n",
              "      <td>7.88</td>\n",
              "      <td>11.9</td>\n",
              "    </tr>\n",
              "  </tbody>\n",
              "</table>\n",
              "<p>506 rows × 7 columns</p>\n",
              "</div>\n",
              "    <div class=\"colab-df-buttons\">\n",
              "\n",
              "  <div class=\"colab-df-container\">\n",
              "    <button class=\"colab-df-convert\" onclick=\"convertToInteractive('df-f00b962a-8253-449f-8e96-76fa7f2abff5')\"\n",
              "            title=\"Convert this dataframe to an interactive table.\"\n",
              "            style=\"display:none;\">\n",
              "\n",
              "  <svg xmlns=\"http://www.w3.org/2000/svg\" height=\"24px\" viewBox=\"0 -960 960 960\">\n",
              "    <path d=\"M120-120v-720h720v720H120Zm60-500h600v-160H180v160Zm220 220h160v-160H400v160Zm0 220h160v-160H400v160ZM180-400h160v-160H180v160Zm440 0h160v-160H620v160ZM180-180h160v-160H180v160Zm440 0h160v-160H620v160Z\"/>\n",
              "  </svg>\n",
              "    </button>\n",
              "\n",
              "  <style>\n",
              "    .colab-df-container {\n",
              "      display:flex;\n",
              "      gap: 12px;\n",
              "    }\n",
              "\n",
              "    .colab-df-convert {\n",
              "      background-color: #E8F0FE;\n",
              "      border: none;\n",
              "      border-radius: 50%;\n",
              "      cursor: pointer;\n",
              "      display: none;\n",
              "      fill: #1967D2;\n",
              "      height: 32px;\n",
              "      padding: 0 0 0 0;\n",
              "      width: 32px;\n",
              "    }\n",
              "\n",
              "    .colab-df-convert:hover {\n",
              "      background-color: #E2EBFA;\n",
              "      box-shadow: 0px 1px 2px rgba(60, 64, 67, 0.3), 0px 1px 3px 1px rgba(60, 64, 67, 0.15);\n",
              "      fill: #174EA6;\n",
              "    }\n",
              "\n",
              "    .colab-df-buttons div {\n",
              "      margin-bottom: 4px;\n",
              "    }\n",
              "\n",
              "    [theme=dark] .colab-df-convert {\n",
              "      background-color: #3B4455;\n",
              "      fill: #D2E3FC;\n",
              "    }\n",
              "\n",
              "    [theme=dark] .colab-df-convert:hover {\n",
              "      background-color: #434B5C;\n",
              "      box-shadow: 0px 1px 3px 1px rgba(0, 0, 0, 0.15);\n",
              "      filter: drop-shadow(0px 1px 2px rgba(0, 0, 0, 0.3));\n",
              "      fill: #FFFFFF;\n",
              "    }\n",
              "  </style>\n",
              "\n",
              "    <script>\n",
              "      const buttonEl =\n",
              "        document.querySelector('#df-f00b962a-8253-449f-8e96-76fa7f2abff5 button.colab-df-convert');\n",
              "      buttonEl.style.display =\n",
              "        google.colab.kernel.accessAllowed ? 'block' : 'none';\n",
              "\n",
              "      async function convertToInteractive(key) {\n",
              "        const element = document.querySelector('#df-f00b962a-8253-449f-8e96-76fa7f2abff5');\n",
              "        const dataTable =\n",
              "          await google.colab.kernel.invokeFunction('convertToInteractive',\n",
              "                                                    [key], {});\n",
              "        if (!dataTable) return;\n",
              "\n",
              "        const docLinkHtml = 'Like what you see? Visit the ' +\n",
              "          '<a target=\"_blank\" href=https://colab.research.google.com/notebooks/data_table.ipynb>data table notebook</a>'\n",
              "          + ' to learn more about interactive tables.';\n",
              "        element.innerHTML = '';\n",
              "        dataTable['output_type'] = 'display_data';\n",
              "        await google.colab.output.renderOutput(dataTable, element);\n",
              "        const docLink = document.createElement('div');\n",
              "        docLink.innerHTML = docLinkHtml;\n",
              "        element.appendChild(docLink);\n",
              "      }\n",
              "    </script>\n",
              "  </div>\n",
              "\n",
              "\n",
              "<div id=\"df-ae011578-bda3-4d09-b5d9-a04ae863eddf\">\n",
              "  <button class=\"colab-df-quickchart\" onclick=\"quickchart('df-ae011578-bda3-4d09-b5d9-a04ae863eddf')\"\n",
              "            title=\"Suggest charts.\"\n",
              "            style=\"display:none;\">\n",
              "\n",
              "<svg xmlns=\"http://www.w3.org/2000/svg\" height=\"24px\"viewBox=\"0 0 24 24\"\n",
              "     width=\"24px\">\n",
              "    <g>\n",
              "        <path d=\"M19 3H5c-1.1 0-2 .9-2 2v14c0 1.1.9 2 2 2h14c1.1 0 2-.9 2-2V5c0-1.1-.9-2-2-2zM9 17H7v-7h2v7zm4 0h-2V7h2v10zm4 0h-2v-4h2v4z\"/>\n",
              "    </g>\n",
              "</svg>\n",
              "  </button>\n",
              "\n",
              "<style>\n",
              "  .colab-df-quickchart {\n",
              "      --bg-color: #E8F0FE;\n",
              "      --fill-color: #1967D2;\n",
              "      --hover-bg-color: #E2EBFA;\n",
              "      --hover-fill-color: #174EA6;\n",
              "      --disabled-fill-color: #AAA;\n",
              "      --disabled-bg-color: #DDD;\n",
              "  }\n",
              "\n",
              "  [theme=dark] .colab-df-quickchart {\n",
              "      --bg-color: #3B4455;\n",
              "      --fill-color: #D2E3FC;\n",
              "      --hover-bg-color: #434B5C;\n",
              "      --hover-fill-color: #FFFFFF;\n",
              "      --disabled-bg-color: #3B4455;\n",
              "      --disabled-fill-color: #666;\n",
              "  }\n",
              "\n",
              "  .colab-df-quickchart {\n",
              "    background-color: var(--bg-color);\n",
              "    border: none;\n",
              "    border-radius: 50%;\n",
              "    cursor: pointer;\n",
              "    display: none;\n",
              "    fill: var(--fill-color);\n",
              "    height: 32px;\n",
              "    padding: 0;\n",
              "    width: 32px;\n",
              "  }\n",
              "\n",
              "  .colab-df-quickchart:hover {\n",
              "    background-color: var(--hover-bg-color);\n",
              "    box-shadow: 0 1px 2px rgba(60, 64, 67, 0.3), 0 1px 3px 1px rgba(60, 64, 67, 0.15);\n",
              "    fill: var(--button-hover-fill-color);\n",
              "  }\n",
              "\n",
              "  .colab-df-quickchart-complete:disabled,\n",
              "  .colab-df-quickchart-complete:disabled:hover {\n",
              "    background-color: var(--disabled-bg-color);\n",
              "    fill: var(--disabled-fill-color);\n",
              "    box-shadow: none;\n",
              "  }\n",
              "\n",
              "  .colab-df-spinner {\n",
              "    border: 2px solid var(--fill-color);\n",
              "    border-color: transparent;\n",
              "    border-bottom-color: var(--fill-color);\n",
              "    animation:\n",
              "      spin 1s steps(1) infinite;\n",
              "  }\n",
              "\n",
              "  @keyframes spin {\n",
              "    0% {\n",
              "      border-color: transparent;\n",
              "      border-bottom-color: var(--fill-color);\n",
              "      border-left-color: var(--fill-color);\n",
              "    }\n",
              "    20% {\n",
              "      border-color: transparent;\n",
              "      border-left-color: var(--fill-color);\n",
              "      border-top-color: var(--fill-color);\n",
              "    }\n",
              "    30% {\n",
              "      border-color: transparent;\n",
              "      border-left-color: var(--fill-color);\n",
              "      border-top-color: var(--fill-color);\n",
              "      border-right-color: var(--fill-color);\n",
              "    }\n",
              "    40% {\n",
              "      border-color: transparent;\n",
              "      border-right-color: var(--fill-color);\n",
              "      border-top-color: var(--fill-color);\n",
              "    }\n",
              "    60% {\n",
              "      border-color: transparent;\n",
              "      border-right-color: var(--fill-color);\n",
              "    }\n",
              "    80% {\n",
              "      border-color: transparent;\n",
              "      border-right-color: var(--fill-color);\n",
              "      border-bottom-color: var(--fill-color);\n",
              "    }\n",
              "    90% {\n",
              "      border-color: transparent;\n",
              "      border-bottom-color: var(--fill-color);\n",
              "    }\n",
              "  }\n",
              "</style>\n",
              "\n",
              "  <script>\n",
              "    async function quickchart(key) {\n",
              "      const quickchartButtonEl =\n",
              "        document.querySelector('#' + key + ' button');\n",
              "      quickchartButtonEl.disabled = true;  // To prevent multiple clicks.\n",
              "      quickchartButtonEl.classList.add('colab-df-spinner');\n",
              "      try {\n",
              "        const charts = await google.colab.kernel.invokeFunction(\n",
              "            'suggestCharts', [key], {});\n",
              "      } catch (error) {\n",
              "        console.error('Error during call to suggestCharts:', error);\n",
              "      }\n",
              "      quickchartButtonEl.classList.remove('colab-df-spinner');\n",
              "      quickchartButtonEl.classList.add('colab-df-quickchart-complete');\n",
              "    }\n",
              "    (() => {\n",
              "      let quickchartButtonEl =\n",
              "        document.querySelector('#df-ae011578-bda3-4d09-b5d9-a04ae863eddf button');\n",
              "      quickchartButtonEl.style.display =\n",
              "        google.colab.kernel.accessAllowed ? 'block' : 'none';\n",
              "    })();\n",
              "  </script>\n",
              "</div>\n",
              "    </div>\n",
              "  </div>\n"
            ]
          },
          "metadata": {},
          "execution_count": 6
        }
      ]
    },
    {
      "cell_type": "markdown",
      "source": [
        "# 2.3. Multivariate analysis\n",
        "\n",
        "Multivariate analysis involves the analysis of three or more variables. It is used to study the relationships between multiple variables, such as whether there are any interactions between the variables. Multivariate analysis can be used to create models that can be used to predict the value of a variable based on the values of other variables.\n"
      ],
      "metadata": {
        "id": "OMsVieBPh5L-"
      }
    },
    {
      "cell_type": "markdown",
      "source": [
        "#### 2.3.1. Average Prices of Goods Using OLS"
      ],
      "metadata": {
        "id": "OsidZUUWkYEo"
      }
    },
    {
      "cell_type": "code",
      "source": [
        "from sklearn.linear_model import LinearRegression\n",
        "from sklearn.cluster import KMeans\n",
        "import statsmodels.api as sm\n",
        "\n",
        "# Multiple Regression to Estimate Prices\n",
        "X = df_v1.drop(columns=[\"medv\"])\n",
        "y = df_v1[\"medv\"]\n",
        "# model = LinearRegression()\n",
        "# model.fit(X, y)\n",
        "# estimated_prices_v2 = model.coef_\n",
        "# Convert the X DataFrame to a format compatible with statsmodels\n",
        "X_with_intercept = sm.add_constant(X)\n",
        "\n",
        "# Fit the ordinary least squares model using statsmodels\n",
        "ols_model = sm.OLS(y, X_with_intercept).fit()\n",
        "\n",
        "# Access the coefficients\n",
        "estimated_prices = ols_model.params[1:]\n",
        "# Print the summary of the regression\n",
        "print(ols_model.summary())"
      ],
      "metadata": {
        "colab": {
          "base_uri": "https://localhost:8080/"
        },
        "id": "x82R9wfPf2wA",
        "outputId": "06f5eddb-1656-40cf-f412-f24d9e8a2506"
      },
      "execution_count": 7,
      "outputs": [
        {
          "output_type": "stream",
          "name": "stdout",
          "text": [
            "                            OLS Regression Results                            \n",
            "==============================================================================\n",
            "Dep. Variable:                   medv   R-squared:                       0.635\n",
            "Model:                            OLS   Adj. R-squared:                  0.631\n",
            "Method:                 Least Squares   F-statistic:                     144.7\n",
            "Date:                Thu, 14 Sep 2023   Prob (F-statistic):          8.18e-106\n",
            "Time:                        05:20:47   Log-Likelihood:                -1585.3\n",
            "No. Observations:                 506   AIC:                             3185.\n",
            "Df Residuals:                     499   BIC:                             3214.\n",
            "Df Model:                           6                                         \n",
            "Covariance Type:            nonrobust                                         \n",
            "==============================================================================\n",
            "                 coef    std err          t      P>|t|      [0.025      0.975]\n",
            "------------------------------------------------------------------------------\n",
            "const         42.6111      1.219     34.954      0.000      40.216      45.006\n",
            "crim          -0.1084      0.034     -3.222      0.001      -0.175      -0.042\n",
            "zn             0.0904      0.015      6.204      0.000       0.062       0.119\n",
            "indus         -0.2964      0.057     -5.215      0.000      -0.408      -0.185\n",
            "chas           4.2104      0.995      4.231      0.000       2.255       6.166\n",
            "dis           -1.8153      0.195     -9.326      0.000      -2.198      -1.433\n",
            "lstat         -0.8547      0.046    -18.430      0.000      -0.946      -0.764\n",
            "==============================================================================\n",
            "Omnibus:                      121.618   Durbin-Watson:                   1.110\n",
            "Prob(Omnibus):                  0.000   Jarque-Bera (JB):              257.055\n",
            "Skew:                           1.285   Prob(JB):                     1.52e-56\n",
            "Kurtosis:                       5.364   Cond. No.                         134.\n",
            "==============================================================================\n",
            "\n",
            "Notes:\n",
            "[1] Standard Errors assume that the covariance matrix of the errors is correctly specified.\n"
          ]
        }
      ]
    },
    {
      "cell_type": "markdown",
      "source": [
        "#### 2.3.2. Relative Prices and Marginal Rates of Substitution (MRS)\n",
        "\n",
        " We can use regression analysis to estimate the prices of different goods and services. From these estimated prices, we can calculate the relative prices of the goods and services. The relative prices are equal to the marginal rates of substitution (MRS), which is the amount of one good that a person is willing to give up to get one more unit of another good."
      ],
      "metadata": {
        "id": "V-i8JHWxlC3e"
      }
    },
    {
      "cell_type": "code",
      "source": [
        "estimated_prices"
      ],
      "metadata": {
        "colab": {
          "base_uri": "https://localhost:8080/"
        },
        "id": "wynivTbUGOsC",
        "outputId": "0d54677f-f358-47b3-80df-eeff70a3c519"
      },
      "execution_count": 8,
      "outputs": [
        {
          "output_type": "execute_result",
          "data": {
            "text/plain": [
              "crim    -0.108449\n",
              "zn       0.090360\n",
              "indus   -0.296351\n",
              "chas     4.210404\n",
              "dis     -1.815344\n",
              "lstat   -0.854713\n",
              "dtype: float64"
            ]
          },
          "metadata": {},
          "execution_count": 8
        }
      ]
    },
    {
      "cell_type": "markdown",
      "source": [
        "> In microeconomics, relative prices tell you how much one thing costs compared to another. Negative prices usually don't make much sense in this setting because prices are normally positive."
      ],
      "metadata": {
        "id": "mkqJJjcfRZcL"
      }
    },
    {
      "cell_type": "code",
      "source": [
        "estimated_prices_mrs = estimated_prices.abs()\n",
        "estimated_prices_mrs"
      ],
      "metadata": {
        "colab": {
          "base_uri": "https://localhost:8080/"
        },
        "id": "KenVfz0FQnFw",
        "outputId": "f62f41ab-2795-4c0d-fb89-1a7fe5e1d923"
      },
      "execution_count": 9,
      "outputs": [
        {
          "output_type": "execute_result",
          "data": {
            "text/plain": [
              "crim     0.108449\n",
              "zn       0.090360\n",
              "indus    0.296351\n",
              "chas     4.210404\n",
              "dis      1.815344\n",
              "lstat    0.854713\n",
              "dtype: float64"
            ]
          },
          "metadata": {},
          "execution_count": 9
        }
      ]
    },
    {
      "cell_type": "markdown",
      "source": [
        "> The multiple linear regression equation (let's consider it as a utility function for this context) has the following form:\n",
        "```\n",
        "MEDV = 42.6111 - 0.1084 * CRIM + 0.0904 * ZN - 0.2964 * INDUS + 4.2104 * CHAS - 1.8153 * DIS - 0.8547 * LSTAT\n",
        "```"
      ],
      "metadata": {
        "id": "73D6cAPA9CG9"
      }
    },
    {
      "cell_type": "markdown",
      "source": [
        "# Exercise 2:\n",
        "\n",
        ">  Based on Section 4.6, 'Utility for Commuting,' on page 68 of the Intermediate Microeconomics book, calculate the Marginal Rate of Substitution (MRS) for CRIM and DIS?\"\n"
      ],
      "metadata": {
        "id": "fcOtQ3pa_WWh"
      }
    },
    {
      "cell_type": "markdown",
      "source": [
        "In a standard utility function $U(x, y)$, the Marginal Rate of Substitution (MRS) is calculated as the negative ratio of the marginal utilities of the two goods, i.e.,\n",
        "\n",
        "$$\n",
        "-\\frac{dU/dy}{dU/dx}\n",
        "$$\n",
        "\n",
        "However, in a linear model like the one we're considering, the coefficients themselves essentially represent the marginal effects -- the change in the dependent variable (here, MEDV) for a one-unit change in the independent variable, all else being constant.\n",
        "\n",
        "To calculate the Marginal Rate of Substitution (MRS) between CRIM and DIS, you would take the ratio of their respective coefficients. In this specific case, that would be:\n",
        "\n",
        "\n"
      ],
      "metadata": {
        "id": "DiwSIrsPEfsC"
      }
    },
    {
      "cell_type": "code",
      "source": [
        "goodsdf = pd.DataFrame()\n",
        "for god in range(len(estimated_prices_mrs)):\n",
        "  # Compute Relative Prices (MRS)\n",
        "  relative_prices = estimated_prices_mrs / estimated_prices_mrs[god]  # We assumend Relative Price is equal to MRS\n",
        "  goodsdf[god] = relative_prices\n",
        "  print(\"Relative Prices (MRS):\")\n",
        "  for i, r_price in enumerate(relative_prices):\n",
        "      print(f\"Relative Price of {relative_prices.index[i]} compared to {estimated_prices_mrs.index[god]}: {r_price}\")\n",
        "  print('=====================================')"
      ],
      "metadata": {
        "colab": {
          "base_uri": "https://localhost:8080/"
        },
        "id": "tcbYR5d-hKIx",
        "outputId": "a0b5954b-d2bb-4864-e6b9-cc79be1f33ae"
      },
      "execution_count": 10,
      "outputs": [
        {
          "output_type": "stream",
          "name": "stdout",
          "text": [
            "Relative Prices (MRS):\n",
            "Relative Price of crim compared to crim: 1.0\n",
            "Relative Price of zn compared to crim: 0.833203779956503\n",
            "Relative Price of indus compared to crim: 2.732626976726115\n",
            "Relative Price of chas compared to crim: 38.82378361993744\n",
            "Relative Price of dis compared to crim: 16.739134111690092\n",
            "Relative Price of lstat compared to crim: 7.881239025933285\n",
            "=====================================\n",
            "Relative Prices (MRS):\n",
            "Relative Price of crim compared to zn: 1.2001865858700311\n",
            "Relative Price of zn compared to zn: 1.0\n",
            "Relative Price of indus compared to zn: 3.279662241653261\n",
            "Relative Price of chas compared to zn: 46.595784313369556\n",
            "Relative Price of dis compared to zn: 20.090084219929906\n",
            "Relative Price of lstat compared to zn: 9.45895735896052\n",
            "=====================================\n",
            "Relative Prices (MRS):\n",
            "Relative Price of crim compared to indus: 0.36594822803003735\n",
            "Relative Price of zn compared to indus: 0.3049094468630114\n",
            "Relative Price of indus compared to indus: 1.0\n",
            "Relative Price of chas compared to indus: 14.207494821137697\n",
            "Relative Price of dis compared to indus: 6.125656466930143\n",
            "Relative Price of lstat compared to indus: 2.8841254562214633\n",
            "=====================================\n",
            "Relative Prices (MRS):\n",
            "Relative Price of crim compared to chas: 0.025757407103579242\n",
            "Relative Price of zn compared to chas: 0.021461168960580704\n",
            "Relative Price of indus compared to chas: 0.0703853855017575\n",
            "Relative Price of chas compared to chas: 1.0\n",
            "Relative Price of dis compared to chas: 0.4311566918762119\n",
            "Relative Price of lstat compared to chas: 0.20300028207157994\n",
            "=====================================\n",
            "Relative Prices (MRS):\n",
            "Relative Price of crim compared to dis: 0.059740246617752533\n",
            "Relative Price of zn compared to dis: 0.049775799297445106\n",
            "Relative Price of indus compared to dis: 0.16324780950394163\n",
            "Relative Price of chas compared to dis: 2.319342408089324\n",
            "Relative Price of dis compared to dis: 1.0\n",
            "Relative Price of lstat compared to dis: 0.47082716306271016\n",
            "=====================================\n",
            "Relative Prices (MRS):\n",
            "Relative Price of crim compared to lstat: 0.12688360252867492\n",
            "Relative Price of zn compared to lstat: 0.10571989724139044\n",
            "Relative Price of indus compared to lstat: 0.346725555174051\n",
            "Relative Price of chas compared to lstat: 4.926101529491422\n",
            "Relative Price of dis compared to lstat: 2.1239216393018694\n",
            "Relative Price of lstat compared to lstat: 1.0\n",
            "=====================================\n"
          ]
        }
      ]
    },
    {
      "cell_type": "code",
      "source": [
        "# Create a heatmap using seaborn\n",
        "\n",
        "goodsdf.columns = goodsdf.index\n",
        "plt.figure(figsize=(10, 8))\n",
        "sns.heatmap(goodsdf, annot=True, cmap='coolwarm', fmt='.2f')\n",
        "\n",
        "plt.title('Heatmap of Relative Prices')\n",
        "plt.xlabel('Goods')\n",
        "plt.ylabel('Goods')\n",
        "\n",
        "plt.show()"
      ],
      "metadata": {
        "colab": {
          "base_uri": "https://localhost:8080/",
          "height": 718
        },
        "id": "uaG3iwWjm0nO",
        "outputId": "b3135fbc-991e-48ef-e08e-f1e95dd167e6"
      },
      "execution_count": 11,
      "outputs": [
        {
          "output_type": "display_data",
          "data": {
            "text/plain": [
              "<Figure size 1000x800 with 2 Axes>"
            ],
            "image/png": "[encoded data removed]"
          },
          "metadata": {}
        }
      ]
    },
    {
      "cell_type": "markdown",
      "source": [
        "Let's break down the interpretations for **CRIM**:\n",
        "\n",
        "> Relative Price of zn compared to crim: 0.8332\n",
        "A one-unit increase in CRIM could be offset by approximately a 0.8332 unit increase in ZN to maintain the same predicted MEDV.\n",
        "\n",
        "> #### Relative Price of indus compared to crim: 2.7326\n",
        "A one-unit increase in CRIM could be offset by approximately a 2.7326 unit increase in INDUS to maintain the same predicted MEDV.\n",
        "\n",
        "> #### Relative Price of chas compared to crim: 38.8238\n",
        "A one-unit increase in CRIM could be offset by approximately a 38.824 unit increase in CHAS to maintain the same predicted MEDV. Note that this is hard to interpret directly since CHAS is a dummy variable.\n",
        "\n",
        "> #### Relative Price of dis compared to crim: 16.7391\n",
        "A one-unit increase in CRIM could be offset by approximately a 16.739 unit increase in DIS to maintain the same predicted MEDV.\n",
        "\n",
        "> #### Relative Price of lstat compared to crim: 7.8812\n",
        "A one-unit increase in CRIM could be offset by approximately a 7.881 unit increase in LSTAT to maintain the same predicted MEDV.\n"
      ],
      "metadata": {
        "id": "ukN0OwR6zs6_"
      }
    },
    {
      "cell_type": "markdown",
      "source": [
        "# Exercise 3:\n",
        "\n",
        ">  Based on the provided information about the relative value of each good compared to other, interpret the economic significance of these factors. Which goods are considered more or less valuable, and by what magnitude? Discuss any patterns or anomalies you observe, and consider what these might imply in an economic context."
      ],
      "metadata": {
        "id": "qhhA9xOZTjfv"
      }
    },
    {
      "cell_type": "markdown",
      "source": [
        "## 3. Clustering Data to Identify Structural Breaks\n",
        "\n",
        "Clustering is a technique that groups similar data points together. By clustering the data, it is possible to identify groups of data points that are affected by different structural breaks.\n",
        "\n",
        "A structural break is a sudden and permanent change in the statistical properties of a data set. This change can be caused by a number of factors, such as a change in government policy, a natural disaster, or a technological innovation.\n",
        "\n",
        "Clustering can be used to identify structural breaks in data by grouping data points that are affected by the same break together. This can be done by using a variety of clustering algorithms, such as k-means clustering or hierarchical clustering."
      ],
      "metadata": {
        "id": "QpW4q_4a1Jd0"
      }
    },
    {
      "cell_type": "code",
      "source": [
        "# Clustering Data using KMeans to detect Structural Breaks\n",
        "clustering_model = KMeans(n_clusters=2)  # We can adjust the number of clusters\n",
        "df_v1['Cluster'] = clustering_model.fit_predict(X)"
      ],
      "metadata": {
        "colab": {
          "base_uri": "https://localhost:8080/"
        },
        "id": "QLltjHbo3HZS",
        "outputId": "a90f5ea7-7392-4edb-8b9b-c5bb557d4e17"
      },
      "execution_count": 12,
      "outputs": [
        {
          "output_type": "stream",
          "name": "stderr",
          "text": [
            "/usr/local/lib/python3.10/dist-packages/sklearn/cluster/_kmeans.py:870: FutureWarning: The default value of `n_init` will change from 10 to 'auto' in 1.4. Set the value of `n_init` explicitly to suppress the warning\n",
            "  warnings.warn(\n",
            "<ipython-input-12-640e6f2335e0>:3: SettingWithCopyWarning: \n",
            "A value is trying to be set on a copy of a slice from a DataFrame.\n",
            "Try using .loc[row_indexer,col_indexer] = value instead\n",
            "\n",
            "See the caveats in the documentation: https://pandas.pydata.org/pandas-docs/stable/user_guide/indexing.html#returning-a-view-versus-a-copy\n",
            "  df_v1['Cluster'] = clustering_model.fit_predict(X)\n"
          ]
        }
      ]
    },
    {
      "cell_type": "code",
      "source": [
        "df_v1['Cluster'].value_counts()"
      ],
      "metadata": {
        "colab": {
          "base_uri": "https://localhost:8080/"
        },
        "id": "spGcSNSO4MTN",
        "outputId": "5c6dc553-1483-4871-9e39-09b559f3ed77"
      },
      "execution_count": 13,
      "outputs": [
        {
          "output_type": "execute_result",
          "data": {
            "text/plain": [
              "0    447\n",
              "1     59\n",
              "Name: Cluster, dtype: int64"
            ]
          },
          "metadata": {},
          "execution_count": 13
        }
      ]
    },
    {
      "cell_type": "markdown",
      "source": [
        "### 3.1. Cluster 0 - Average Prices of Goods Using OLS"
      ],
      "metadata": {
        "id": "_tpOJJUlPLYh"
      }
    },
    {
      "cell_type": "code",
      "source": [
        "# Cluster 0\n",
        "from sklearn.linear_model import LinearRegression\n",
        "from sklearn.cluster import KMeans\n",
        "import statsmodels.api as sm\n",
        "\n",
        "# Multiple Regression to Estimate Prices\n",
        "X_0 = df_v1[df_v1['Cluster'] == 0].drop(columns=[\"medv\", 'Cluster'])\n",
        "y_0 = df_v1[df_v1['Cluster'] == 0][\"medv\"]\n",
        "\n",
        "# Convert the X DataFrame to a format compatible with statsmodels\n",
        "X_with_intercept_0 = sm.add_constant(X_0)\n",
        "\n",
        "# Fit the ordinary least squares model using statsmodels\n",
        "ols_model_0 = sm.OLS(y_0, X_with_intercept_0).fit()\n",
        "\n",
        "# Access the coefficients\n",
        "estimated_prices_0 = ols_model_0.params[1:]\n",
        "# Print the summary of the regression\n",
        "print(ols_model_0.summary())"
      ],
      "metadata": {
        "colab": {
          "base_uri": "https://localhost:8080/"
        },
        "id": "hjRs5I3K4ctk",
        "outputId": "c4669720-7f68-45e9-f535-587843327bd3"
      },
      "execution_count": 14,
      "outputs": [
        {
          "output_type": "stream",
          "name": "stdout",
          "text": [
            "                            OLS Regression Results                            \n",
            "==============================================================================\n",
            "Dep. Variable:                   medv   R-squared:                       0.605\n",
            "Model:                            OLS   Adj. R-squared:                  0.600\n",
            "Method:                 Least Squares   F-statistic:                     112.3\n",
            "Date:                Thu, 14 Sep 2023   Prob (F-statistic):           1.66e-85\n",
            "Time:                        05:20:48   Log-Likelihood:                -1403.5\n",
            "No. Observations:                 447   AIC:                             2821.\n",
            "Df Residuals:                     440   BIC:                             2850.\n",
            "Df Model:                           6                                         \n",
            "Covariance Type:            nonrobust                                         \n",
            "==============================================================================\n",
            "                 coef    std err          t      P>|t|      [0.025      0.975]\n",
            "------------------------------------------------------------------------------\n",
            "const         41.6648      1.334     31.226      0.000      39.042      44.287\n",
            "crim          -0.1082      0.034     -3.176      0.002      -0.175      -0.041\n",
            "zn             0.1310      0.036      3.677      0.000       0.061       0.201\n",
            "indus         -0.2699      0.059     -4.588      0.000      -0.386      -0.154\n",
            "chas           4.3033      1.064      4.046      0.000       2.213       6.394\n",
            "dis           -1.7050      0.221     -7.704      0.000      -2.140      -1.270\n",
            "lstat         -0.8423      0.047    -17.755      0.000      -0.936      -0.749\n",
            "==============================================================================\n",
            "Omnibus:                      120.122   Durbin-Watson:                   0.994\n",
            "Prob(Omnibus):                  0.000   Jarque-Bera (JB):              273.542\n",
            "Skew:                           1.380   Prob(JB):                     3.99e-60\n",
            "Kurtosis:                       5.659   Cond. No.                         109.\n",
            "==============================================================================\n",
            "\n",
            "Notes:\n",
            "[1] Standard Errors assume that the covariance matrix of the errors is correctly specified.\n"
          ]
        }
      ]
    },
    {
      "cell_type": "code",
      "source": [
        "estimated_prices_0_mrs = estimated_prices_0.abs()\n",
        "estimated_prices_0_mrs"
      ],
      "metadata": {
        "colab": {
          "base_uri": "https://localhost:8080/"
        },
        "id": "dxWw6qRHq66G",
        "outputId": "503923d8-f6ff-4710-c4a1-9203d2ac591b"
      },
      "execution_count": 15,
      "outputs": [
        {
          "output_type": "execute_result",
          "data": {
            "text/plain": [
              "crim     0.108187\n",
              "zn       0.131013\n",
              "indus    0.269942\n",
              "chas     4.303296\n",
              "dis      1.704983\n",
              "lstat    0.842301\n",
              "dtype: float64"
            ]
          },
          "metadata": {},
          "execution_count": 15
        }
      ]
    },
    {
      "cell_type": "code",
      "source": [
        "goodsdf_0 = pd.DataFrame()\n",
        "for god in range(len(estimated_prices_0_mrs)):\n",
        "  # Compute Relative Prices (MRS)\n",
        "  relative_prices_0 = estimated_prices_0_mrs / estimated_prices_0_mrs[god]  # We assumend Relative Price is equal to MRS\n",
        "  goodsdf_0[god] = relative_prices_0\n",
        "  print(\"Relative Prices (MRS):\")\n",
        "  for i, r_price in enumerate(relative_prices_0):\n",
        "      print(f\"Relative Price of {relative_prices_0.index[i]} compared to {estimated_prices_0_mrs.index[god]}: {r_price}\")\n",
        "  print('=====================================')"
      ],
      "metadata": {
        "colab": {
          "base_uri": "https://localhost:8080/"
        },
        "id": "I3RBKX_l47yZ",
        "outputId": "02649a18-1fc6-4eca-98fb-ddd27eea0b89"
      },
      "execution_count": 16,
      "outputs": [
        {
          "output_type": "stream",
          "name": "stdout",
          "text": [
            "Relative Prices (MRS):\n",
            "Relative Price of crim compared to crim: 1.0\n",
            "Relative Price of zn compared to crim: 1.2109874023120106\n",
            "Relative Price of indus compared to crim: 2.495137641022616\n",
            "Relative Price of chas compared to crim: 39.776417121212994\n",
            "Relative Price of dis compared to crim: 15.759576516690194\n",
            "Relative Price of lstat compared to crim: 7.785597717613433\n",
            "=====================================\n",
            "Relative Prices (MRS):\n",
            "Relative Price of crim compared to zn: 0.8257724218194222\n",
            "Relative Price of zn compared to zn: 1.0\n",
            "Relative Price of indus compared to zn: 2.060415852600046\n",
            "Relative Price of chas compared to zn: 32.84626829748358\n",
            "Relative Price of dis compared to zn: 13.013823667035755\n",
            "Relative Price of lstat compared to zn: 6.429131882585411\n",
            "=====================================\n",
            "Relative Prices (MRS):\n",
            "Relative Price of crim compared to indus: 0.4007794935072826\n",
            "Relative Price of zn compared to indus: 0.4853389177423075\n",
            "Relative Price of indus compared to indus: 1.0\n",
            "Relative Price of chas compared to indus: 15.941572307374146\n",
            "Relative Price of dis compared to indus: 6.316115094248361\n",
            "Relative Price of lstat compared to indus: 3.120307909916567\n",
            "=====================================\n",
            "Relative Prices (MRS):\n",
            "Relative Price of crim compared to chas: 0.02514052477257169\n",
            "Relative Price of zn compared to chas: 0.030444858787097344\n",
            "Relative Price of indus compared to chas: 0.06272906967510518\n",
            "Relative Price of chas compared to chas: 1.0\n",
            "Relative Price of dis compared to chas: 0.39620402382308895\n",
            "Relative Price of lstat compared to chas: 0.19573401228893814\n",
            "=====================================\n",
            "Relative Prices (MRS):\n",
            "Relative Price of crim compared to dis: 0.06345348169355623\n",
            "Relative Price of zn compared to dis: 0.0768413669637324\n",
            "Relative Price of indus compared to dis: 0.15832517062753165\n",
            "Relative Price of chas compared to dis: 2.5239521556361453\n",
            "Relative Price of dis compared to dis: 1.0\n",
            "Relative Price of lstat compared to dis: 0.4940232822479772\n",
            "=====================================\n",
            "Relative Prices (MRS):\n",
            "Relative Price of crim compared to lstat: 0.12844229001682045\n",
            "Relative Price of zn compared to lstat: 0.1555419951344753\n",
            "Relative Price of indus compared to lstat: 0.3204811925201121\n",
            "Relative Price of chas compared to lstat: 5.108974103712862\n",
            "Relative Price of dis compared to lstat: 2.024196097498995\n",
            "Relative Price of lstat compared to lstat: 1.0\n",
            "=====================================\n"
          ]
        }
      ]
    },
    {
      "cell_type": "code",
      "source": [
        "# Create a heatmap using seaborn for Cluster 0\n",
        "\n",
        "goodsdf_0.columns = goodsdf_0.index\n",
        "plt.figure(figsize=(10, 8))\n",
        "sns.heatmap(goodsdf_0, annot=True, cmap='coolwarm', fmt='.2f')\n",
        "\n",
        "plt.title('Heatmap of Relative Prices for Cluster 0')\n",
        "plt.xlabel('Goods')\n",
        "plt.ylabel('Goods')\n",
        "\n",
        "plt.show()"
      ],
      "metadata": {
        "colab": {
          "base_uri": "https://localhost:8080/",
          "height": 718
        },
        "id": "iCoA--R46Pyl",
        "outputId": "ab830468-b746-46d1-b48f-173f670f4e2c"
      },
      "execution_count": 17,
      "outputs": [
        {
          "output_type": "display_data",
          "data": {
            "text/plain": [
              "<Figure size 1000x800 with 2 Axes>"
            ],
            "image/png": "[encoded data removed]"
          },
          "metadata": {}
        }
      ]
    },
    {
      "cell_type": "markdown",
      "source": [
        "Let's break down the interpretations for **CRIM** for **Cluster 0**:\n",
        "\n",
        "> #### Relative Price of zn compared to crim: 1.2110\n",
        "A one-unit increase in CRIM could be offset by approximately a 1.2110 unit increase in ZN to maintain the same predicted MEDV.\n",
        "\n",
        "> #### Relative Price of indus compared to crim: 2.4951\n",
        "A one-unit increase in CRIM could be offset by approximately a 2.4951 unit increase in INDUS to maintain the same predicted MEDV.\n",
        "\n",
        "> #### Relative Price of chas compared to crim: 39.7764\n",
        "A one-unit increase in CRIM could be offset by approximately a 39.776 unit increase in CHAS to maintain the same predicted MEDV. Note that this is difficult to interpret directly since CHAS is a dummy variable.\n",
        "\n",
        "> #### Relative Price of dis compared to crim: 15.7596\n",
        "A one-unit increase in CRIM could be offset by approximately a 15.760 unit increase in DIS to maintain the same predicted MEDV.\n",
        "\n",
        "> #### Relative Price of lstat compared to crim: 7.7856\n",
        "A one-unit increase in CRIM could be offset by approximately a 7.786 unit increase in LSTAT to maintain the same predicted MEDV.\n"
      ],
      "metadata": {
        "id": "FbQvTfeu7xxU"
      }
    },
    {
      "cell_type": "markdown",
      "source": [
        "# Exercise 4:\n",
        "\n",
        ">  Based on the provided information about the relative value of each good compared to others in cluster 0, interpret the economic significance of these factors. Which goods are considered more or less valuable, and to what extent for this cluster? Discuss any patterns or anomalies you observe, and consider what these might imply in an economic context.\n",
        "\n"
      ],
      "metadata": {
        "id": "2_N0iQuHtTJL"
      }
    },
    {
      "cell_type": "markdown",
      "source": [
        "### 3.2. Cluster 1 - Average Prices of Goods Using OLS"
      ],
      "metadata": {
        "id": "RgEB1WetPXvE"
      }
    },
    {
      "cell_type": "code",
      "source": [
        "# Cluster 1\n",
        "from sklearn.linear_model import LinearRegression\n",
        "from sklearn.cluster import KMeans\n",
        "import statsmodels.api as sm\n",
        "\n",
        "# Multiple Regression to Estimate Prices\n",
        "X_1 = df_v1[df_v1['Cluster'] == 1].drop(columns=[\"medv\", 'Cluster'])\n",
        "y_1 = df_v1[df_v1['Cluster'] == 1][\"medv\"]\n",
        "\n",
        "# Convert the X DataFrame to a format compatible with statsmodels\n",
        "X_with_intercept_1 = sm.add_constant(X_1)\n",
        "\n",
        "# Fit the ordinary least squares model using statsmodels\n",
        "ols_model_1 = sm.OLS(y_1, X_with_intercept_1).fit()\n",
        "\n",
        "# Access the coefficients\n",
        "estimated_prices_1 = ols_model_1.params[1:]\n",
        "# Print the summary of the regression\n",
        "print(ols_model_1.summary())"
      ],
      "metadata": {
        "colab": {
          "base_uri": "https://localhost:8080/"
        },
        "id": "T7KJAwIq6a4P",
        "outputId": "ac00f239-7331-42be-f6eb-339785329e68"
      },
      "execution_count": 22,
      "outputs": [
        {
          "output_type": "stream",
          "name": "stdout",
          "text": [
            "                            OLS Regression Results                            \n",
            "==============================================================================\n",
            "Dep. Variable:                   medv   R-squared:                       0.687\n",
            "Model:                            OLS   Adj. R-squared:                  0.651\n",
            "Method:                 Least Squares   F-statistic:                     19.04\n",
            "Date:                Thu, 14 Sep 2023   Prob (F-statistic):           1.39e-11\n",
            "Time:                        05:20:49   Log-Likelihood:                -171.29\n",
            "No. Observations:                  59   AIC:                             356.6\n",
            "Df Residuals:                      52   BIC:                             371.1\n",
            "Df Model:                           6                                         \n",
            "Covariance Type:            nonrobust                                         \n",
            "==============================================================================\n",
            "                 coef    std err          t      P>|t|      [0.025      0.975]\n",
            "------------------------------------------------------------------------------\n",
            "const         54.2712      5.234     10.369      0.000      43.769      64.774\n",
            "crim         -15.5076     27.088     -0.572      0.569     -69.863      38.848\n",
            "zn             0.0858      0.042      2.021      0.048       0.001       0.171\n",
            "indus         -1.6233      0.538     -3.016      0.004      -2.703      -0.543\n",
            "chas           5.3752      2.669      2.014      0.049       0.019      10.732\n",
            "dis           -2.3718      0.436     -5.438      0.000      -3.247      -1.497\n",
            "lstat         -1.4507      0.291     -4.987      0.000      -2.034      -0.867\n",
            "==============================================================================\n",
            "Omnibus:                        1.632   Durbin-Watson:                   1.807\n",
            "Prob(Omnibus):                  0.442   Jarque-Bera (JB):                1.243\n",
            "Skew:                           0.122   Prob(JB):                        0.537\n",
            "Kurtosis:                       2.332   Cond. No.                     3.19e+03\n",
            "==============================================================================\n",
            "\n",
            "Notes:\n",
            "[1] Standard Errors assume that the covariance matrix of the errors is correctly specified.\n",
            "[2] The condition number is large, 3.19e+03. This might indicate that there are\n",
            "strong multicollinearity or other numerical problems.\n"
          ]
        }
      ]
    },
    {
      "cell_type": "markdown",
      "source": [
        "**The P-value of CRIM** is graeter than 0.5, then we cannot reject the null hypothesis that the coefficient of this variable is equal to zero. **This means that the variable is not statistically significant.**"
      ],
      "metadata": {
        "id": "e7kD0jb3N0nK"
      }
    },
    {
      "cell_type": "code",
      "source": [
        "estimated_prices_1_mrs = estimated_prices_1[1:].abs()\n",
        "estimated_prices_1_mrs"
      ],
      "metadata": {
        "colab": {
          "base_uri": "https://localhost:8080/"
        },
        "id": "ko3iIJhkSVO-",
        "outputId": "e5427a9f-2b97-4d62-e61f-6c05f0c81e62"
      },
      "execution_count": 23,
      "outputs": [
        {
          "output_type": "execute_result",
          "data": {
            "text/plain": [
              "zn       0.085757\n",
              "indus    1.623290\n",
              "chas     5.375213\n",
              "dis      2.371767\n",
              "lstat    1.450680\n",
              "dtype: float64"
            ]
          },
          "metadata": {},
          "execution_count": 23
        }
      ]
    },
    {
      "cell_type": "code",
      "source": [
        "goodsdf_1 = pd.DataFrame()\n",
        "for god in range(len(estimated_prices_1_mrs)):\n",
        "  # Compute Relative Prices (MRS)\n",
        "  relative_prices_1 = estimated_prices_1_mrs / estimated_prices_1_mrs[god]  # We assumend Relative Price is equal to MRS\n",
        "  goodsdf_1[god] = relative_prices_1\n",
        "  print(\"Relative Prices (MRS):\")\n",
        "  for i, r_price in enumerate(relative_prices_1):\n",
        "      print(f\"Relative Price of {relative_prices_1.index[i]} compared to {estimated_prices_1_mrs.index[god]}: {r_price}\")\n",
        "  print('=====================================')"
      ],
      "metadata": {
        "colab": {
          "base_uri": "https://localhost:8080/"
        },
        "id": "pVb1QId86q2G",
        "outputId": "d4606d20-8be3-4eaa-bad9-8f5e76c8a101"
      },
      "execution_count": 24,
      "outputs": [
        {
          "output_type": "stream",
          "name": "stdout",
          "text": [
            "Relative Prices (MRS):\n",
            "Relative Price of zn compared to zn: 1.0\n",
            "Relative Price of indus compared to zn: 18.928911233895604\n",
            "Relative Price of chas compared to zn: 62.67944879709079\n",
            "Relative Price of dis compared to zn: 27.656775302637296\n",
            "Relative Price of lstat compared to zn: 16.91613053720433\n",
            "=====================================\n",
            "Relative Prices (MRS):\n",
            "Relative Price of zn compared to indus: 0.05282924028981239\n",
            "Relative Price of indus compared to indus: 1.0\n",
            "Relative Price of chas compared to indus: 3.3113076617345016\n",
            "Relative Price of dis compared to indus: 1.4610864281043745\n",
            "Relative Price of lstat compared to indus: 0.8936663249238007\n",
            "=====================================\n",
            "Relative Prices (MRS):\n",
            "Relative Price of zn compared to chas: 0.015954192629186202\n",
            "Relative Price of indus compared to chas: 0.3019954960863372\n",
            "Relative Price of chas compared to chas: 1.0\n",
            "Relative Price of dis compared to chas: 0.441241520680395\n",
            "Relative Price of lstat compared to chas: 0.269883205131017\n",
            "=====================================\n",
            "Relative Prices (MRS):\n",
            "Relative Price of zn compared to dis: 0.036157505314968585\n",
            "Relative Price of indus compared to dis: 0.6844222085461489\n",
            "Relative Price of chas compared to dis: 2.2663325030201116\n",
            "Relative Price of dis compared to dis: 1.0\n",
            "Relative Price of lstat compared to dis: 0.611645079807668\n",
            "=====================================\n",
            "Relative Prices (MRS):\n",
            "Relative Price of zn compared to lstat: 0.05911517399328762\n",
            "Relative Price of indus compared to lstat: 1.1189858810952353\n",
            "Relative Price of chas compared to lstat: 3.7053065214433847\n",
            "Relative Price of dis compared to lstat: 1.6349350841086636\n",
            "Relative Price of lstat compared to lstat: 1.0\n",
            "=====================================\n"
          ]
        }
      ]
    },
    {
      "cell_type": "code",
      "source": [
        "# Create a heatmap using seaborn for Cluster 0\n",
        "\n",
        "goodsdf_1.columns = goodsdf_1.index\n",
        "plt.figure(figsize=(10, 8))\n",
        "sns.heatmap(goodsdf_1, annot=True, cmap='coolwarm', fmt='.2f')\n",
        "\n",
        "plt.title('Heatmap of Relative Prices for Cluster 1')\n",
        "plt.xlabel('Goods')\n",
        "plt.ylabel('Goods')\n",
        "\n",
        "plt.show()"
      ],
      "metadata": {
        "colab": {
          "base_uri": "https://localhost:8080/",
          "height": 718
        },
        "id": "nK77Geff61Mn",
        "outputId": "1fc05a46-748c-461c-8870-e27b91b2f700"
      },
      "execution_count": 25,
      "outputs": [
        {
          "output_type": "display_data",
          "data": {
            "text/plain": [
              "<Figure size 1000x800 with 2 Axes>"
            ],
            "image/png": "[encoded data removed]"
          },
          "metadata": {}
        }
      ]
    },
    {
      "cell_type": "markdown",
      "source": [
        "Let's break down the interpretations for **zn** for **Cluster 1**:\n",
        "\n",
        "> #### Relative Price of indus compared to zn: 18.929\n",
        "A one-unit increase in ZN could be offset by approximately a 18.929 unit increase in INDUS to maintain the same predicted MEDV.\n",
        "\n",
        "> #### Relative Price of chas compared to zn: 62.679\n",
        "A one-unit increase in ZN could be offset by approximately a 62.679 unit increase in CHAS to maintain the same predicted MEDV. Note that this is hard to interpret directly since CHAS is a dummy variable.\n",
        "\n",
        "> #### Relative Price of dis compared to zn: 27.657\n",
        "A one-unit increase in ZN could be offset by approximately a 27.657 unit increase in DIS to maintain the same predicted MEDV.\n",
        "\n",
        "> #### Relative Price of lstat compared to zn: 16.916\n",
        "A one-unit increase in ZN could be offset by approximately a 16.916 unit increase in LSTAT to maintain the same predicted MEDV.\n",
        "\n"
      ],
      "metadata": {
        "id": "RqJ85O9H94zC"
      }
    },
    {
      "cell_type": "markdown",
      "source": [
        "# Exercise 5:\n",
        "\n",
        ">  Based on the provided information about the relative value of each good compared to others in cluster 1, interpret the economic significance of these factors. Which goods are considered more or less valuable, and to what extent for this cluster? Discuss any patterns or anomalies you observe, and consider what these might imply in an economic context."
      ],
      "metadata": {
        "id": "mhE2ss77tx0p"
      }
    },
    {
      "cell_type": "markdown",
      "source": [
        "## 4. Comparing The Results"
      ],
      "metadata": {
        "id": "s9kG9DLNLQqM"
      }
    },
    {
      "cell_type": "markdown",
      "source": [
        "\n",
        "<img src=\"https://raw.githubusercontent.com/HamidBekamiri/Microeconomics/main/Comparing_results_1.png\" alt=\"Image\" width=\"800\" height=\"250\"/>\n"
      ],
      "metadata": {
        "id": "IRRrWDU8EILE"
      }
    },
    {
      "cell_type": "code",
      "source": [
        "df_v1['Cluster'].value_counts()"
      ],
      "metadata": {
        "colab": {
          "base_uri": "https://localhost:8080/"
        },
        "id": "iZozkYu0Roji",
        "outputId": "c4b26267-9782-4ced-efde-55210546b463"
      },
      "execution_count": 26,
      "outputs": [
        {
          "output_type": "execute_result",
          "data": {
            "text/plain": [
              "0    447\n",
              "1     59\n",
              "Name: Cluster, dtype: int64"
            ]
          },
          "metadata": {},
          "execution_count": 26
        }
      ]
    },
    {
      "cell_type": "code",
      "source": [
        "df_v1[df_v1['Cluster'] == 0]['medv'].mean()"
      ],
      "metadata": {
        "colab": {
          "base_uri": "https://localhost:8080/"
        },
        "id": "TqpVPeaKRvNX",
        "outputId": "404e22ed-0e97-412c-9a1b-8937efdbf452"
      },
      "execution_count": 27,
      "outputs": [
        {
          "output_type": "execute_result",
          "data": {
            "text/plain": [
              "21.550335570469798"
            ]
          },
          "metadata": {},
          "execution_count": 27
        }
      ]
    },
    {
      "cell_type": "code",
      "source": [
        "df_v1[df_v1['Cluster'] == 1]['medv'].mean()"
      ],
      "metadata": {
        "colab": {
          "base_uri": "https://localhost:8080/"
        },
        "id": "N3HN0bA7R3zB",
        "outputId": "825b3f27-b6a2-47f0-ad3f-9681bde63c7f"
      },
      "execution_count": 28,
      "outputs": [
        {
          "output_type": "execute_result",
          "data": {
            "text/plain": [
              "29.976271186440673"
            ]
          },
          "metadata": {},
          "execution_count": 28
        }
      ]
    },
    {
      "cell_type": "markdown",
      "source": [
        "# Exercise 6:\n",
        "\n",
        "Reproduce the results of the hands-on project for the following dataset.\n",
        "\n"
      ],
      "metadata": {
        "id": "asd12hVilToU"
      }
    },
    {
      "cell_type": "code",
      "source": [
        "import pandas as pd\n",
        "\n",
        "df_2 = pd.read_csv('https://raw.githubusercontent.com/ageron/handson-ml/master/datasets/housing/housing.csv')"
      ],
      "metadata": {
        "id": "glXSv556R-R2"
      },
      "execution_count": 29,
      "outputs": []
    },
    {
      "cell_type": "code",
      "source": [
        "df_2.shape"
      ],
      "metadata": {
        "colab": {
          "base_uri": "https://localhost:8080/"
        },
        "id": "_tEuJiraRwEN",
        "outputId": "36e6fdeb-85fb-47d3-dfb3-7584cc64b465"
      },
      "execution_count": 30,
      "outputs": [
        {
          "output_type": "execute_result",
          "data": {
            "text/plain": [
              "(20640, 10)"
            ]
          },
          "metadata": {},
          "execution_count": 30
        }
      ]
    },
    {
      "cell_type": "code",
      "source": [
        "df_2.head()"
      ],
      "metadata": {
        "colab": {
          "base_uri": "https://localhost:8080/",
          "height": 226
        },
        "id": "2PH3PYFUR1YM",
        "outputId": "71848715-a1ed-42b1-dbce-2e9f906922c1"
      },
      "execution_count": 31,
      "outputs": [
        {
          "output_type": "execute_result",
          "data": {
            "text/plain": [
              "   longitude  latitude  housing_median_age  total_rooms  total_bedrooms  \\\n",
              "0    -122.23     37.88                41.0        880.0           129.0   \n",
              "1    -122.22     37.86                21.0       7099.0          1106.0   \n",
              "2    -122.24     37.85                52.0       1467.0           190.0   \n",
              "3    -122.25     37.85                52.0       1274.0           235.0   \n",
              "4    -122.25     37.85                52.0       1627.0           280.0   \n",
              "\n",
              "   population  households  median_income  median_house_value ocean_proximity  \n",
              "0       322.0       126.0         8.3252            452600.0        NEAR BAY  \n",
              "1      2401.0      1138.0         8.3014            358500.0        NEAR BAY  \n",
              "2       496.0       177.0         7.2574            352100.0        NEAR BAY  \n",
              "3       558.0       219.0         5.6431            341300.0        NEAR BAY  \n",
              "4       565.0       259.0         3.8462            342200.0        NEAR BAY  "
            ],
            "text/html": [
              "\n",
              "  <div id=\"df-ae7b9a38-0513-4673-8ce5-7bba00e57545\" class=\"colab-df-container\">\n",
              "    <div>\n",
              "<style scoped>\n",
              "    .dataframe tbody tr th:only-of-type {\n",
              "        vertical-align: middle;\n",
              "    }\n",
              "\n",
              "    .dataframe tbody tr th {\n",
              "        vertical-align: top;\n",
              "    }\n",
              "\n",
              "    .dataframe thead th {\n",
              "        text-align: right;\n",
              "    }\n",
              "</style>\n",
              "<table border=\"1\" class=\"dataframe\">\n",
              "  <thead>\n",
              "    <tr style=\"text-align: right;\">\n",
              "      <th></th>\n",
              "      <th>longitude</th>\n",
              "      <th>latitude</th>\n",
              "      <th>housing_median_age</th>\n",
              "      <th>total_rooms</th>\n",
              "      <th>total_bedrooms</th>\n",
              "      <th>population</th>\n",
              "      <th>households</th>\n",
              "      <th>median_income</th>\n",
              "      <th>median_house_value</th>\n",
              "      <th>ocean_proximity</th>\n",
              "    </tr>\n",
              "  </thead>\n",
              "  <tbody>\n",
              "    <tr>\n",
              "      <th>0</th>\n",
              "      <td>-122.23</td>\n",
              "      <td>37.88</td>\n",
              "      <td>41.0</td>\n",
              "      <td>880.0</td>\n",
              "      <td>129.0</td>\n",
              "      <td>322.0</td>\n",
              "      <td>126.0</td>\n",
              "      <td>8.3252</td>\n",
              "      <td>452600.0</td>\n",
              "      <td>NEAR BAY</td>\n",
              "    </tr>\n",
              "    <tr>\n",
              "      <th>1</th>\n",
              "      <td>-122.22</td>\n",
              "      <td>37.86</td>\n",
              "      <td>21.0</td>\n",
              "      <td>7099.0</td>\n",
              "      <td>1106.0</td>\n",
              "      <td>2401.0</td>\n",
              "      <td>1138.0</td>\n",
              "      <td>8.3014</td>\n",
              "      <td>358500.0</td>\n",
              "      <td>NEAR BAY</td>\n",
              "    </tr>\n",
              "    <tr>\n",
              "      <th>2</th>\n",
              "      <td>-122.24</td>\n",
              "      <td>37.85</td>\n",
              "      <td>52.0</td>\n",
              "      <td>1467.0</td>\n",
              "      <td>190.0</td>\n",
              "      <td>496.0</td>\n",
              "      <td>177.0</td>\n",
              "      <td>7.2574</td>\n",
              "      <td>352100.0</td>\n",
              "      <td>NEAR BAY</td>\n",
              "    </tr>\n",
              "    <tr>\n",
              "      <th>3</th>\n",
              "      <td>-122.25</td>\n",
              "      <td>37.85</td>\n",
              "      <td>52.0</td>\n",
              "      <td>1274.0</td>\n",
              "      <td>235.0</td>\n",
              "      <td>558.0</td>\n",
              "      <td>219.0</td>\n",
              "      <td>5.6431</td>\n",
              "      <td>341300.0</td>\n",
              "      <td>NEAR BAY</td>\n",
              "    </tr>\n",
              "    <tr>\n",
              "      <th>4</th>\n",
              "      <td>-122.25</td>\n",
              "      <td>37.85</td>\n",
              "      <td>52.0</td>\n",
              "      <td>1627.0</td>\n",
              "      <td>280.0</td>\n",
              "      <td>565.0</td>\n",
              "      <td>259.0</td>\n",
              "      <td>3.8462</td>\n",
              "      <td>342200.0</td>\n",
              "      <td>NEAR BAY</td>\n",
              "    </tr>\n",
              "  </tbody>\n",
              "</table>\n",
              "</div>\n",
              "    <div class=\"colab-df-buttons\">\n",
              "\n",
              "  <div class=\"colab-df-container\">\n",
              "    <button class=\"colab-df-convert\" onclick=\"convertToInteractive('df-ae7b9a38-0513-4673-8ce5-7bba00e57545')\"\n",
              "            title=\"Convert this dataframe to an interactive table.\"\n",
              "            style=\"display:none;\">\n",
              "\n",
              "  <svg xmlns=\"http://www.w3.org/2000/svg\" height=\"24px\" viewBox=\"0 -960 960 960\">\n",
              "    <path d=\"M120-120v-720h720v720H120Zm60-500h600v-160H180v160Zm220 220h160v-160H400v160Zm0 220h160v-160H400v160ZM180-400h160v-160H180v160Zm440 0h160v-160H620v160ZM180-180h160v-160H180v160Zm440 0h160v-160H620v160Z\"/>\n",
              "  </svg>\n",
              "    </button>\n",
              "\n",
              "  <style>\n",
              "    .colab-df-container {\n",
              "      display:flex;\n",
              "      gap: 12px;\n",
              "    }\n",
              "\n",
              "    .colab-df-convert {\n",
              "      background-color: #E8F0FE;\n",
              "      border: none;\n",
              "      border-radius: 50%;\n",
              "      cursor: pointer;\n",
              "      display: none;\n",
              "      fill: #1967D2;\n",
              "      height: 32px;\n",
              "      padding: 0 0 0 0;\n",
              "      width: 32px;\n",
              "    }\n",
              "\n",
              "    .colab-df-convert:hover {\n",
              "      background-color: #E2EBFA;\n",
              "      box-shadow: 0px 1px 2px rgba(60, 64, 67, 0.3), 0px 1px 3px 1px rgba(60, 64, 67, 0.15);\n",
              "      fill: #174EA6;\n",
              "    }\n",
              "\n",
              "    .colab-df-buttons div {\n",
              "      margin-bottom: 4px;\n",
              "    }\n",
              "\n",
              "    [theme=dark] .colab-df-convert {\n",
              "      background-color: #3B4455;\n",
              "      fill: #D2E3FC;\n",
              "    }\n",
              "\n",
              "    [theme=dark] .colab-df-convert:hover {\n",
              "      background-color: #434B5C;\n",
              "      box-shadow: 0px 1px 3px 1px rgba(0, 0, 0, 0.15);\n",
              "      filter: drop-shadow(0px 1px 2px rgba(0, 0, 0, 0.3));\n",
              "      fill: #FFFFFF;\n",
              "    }\n",
              "  </style>\n",
              "\n",
              "    <script>\n",
              "      const buttonEl =\n",
              "        document.querySelector('#df-ae7b9a38-0513-4673-8ce5-7bba00e57545 button.colab-df-convert');\n",
              "      buttonEl.style.display =\n",
              "        google.colab.kernel.accessAllowed ? 'block' : 'none';\n",
              "\n",
              "      async function convertToInteractive(key) {\n",
              "        const element = document.querySelector('#df-ae7b9a38-0513-4673-8ce5-7bba00e57545');\n",
              "        const dataTable =\n",
              "          await google.colab.kernel.invokeFunction('convertToInteractive',\n",
              "                                                    [key], {});\n",
              "        if (!dataTable) return;\n",
              "\n",
              "        const docLinkHtml = 'Like what you see? Visit the ' +\n",
              "          '<a target=\"_blank\" href=https://colab.research.google.com/notebooks/data_table.ipynb>data table notebook</a>'\n",
              "          + ' to learn more about interactive tables.';\n",
              "        element.innerHTML = '';\n",
              "        dataTable['output_type'] = 'display_data';\n",
              "        await google.colab.output.renderOutput(dataTable, element);\n",
              "        const docLink = document.createElement('div');\n",
              "        docLink.innerHTML = docLinkHtml;\n",
              "        element.appendChild(docLink);\n",
              "      }\n",
              "    </script>\n",
              "  </div>\n",
              "\n",
              "\n",
              "<div id=\"df-7896e0d3-6af5-472f-bab4-2e2f62e457a5\">\n",
              "  <button class=\"colab-df-quickchart\" onclick=\"quickchart('df-7896e0d3-6af5-472f-bab4-2e2f62e457a5')\"\n",
              "            title=\"Suggest charts.\"\n",
              "            style=\"display:none;\">\n",
              "\n",
              "<svg xmlns=\"http://www.w3.org/2000/svg\" height=\"24px\"viewBox=\"0 0 24 24\"\n",
              "     width=\"24px\">\n",
              "    <g>\n",
              "        <path d=\"M19 3H5c-1.1 0-2 .9-2 2v14c0 1.1.9 2 2 2h14c1.1 0 2-.9 2-2V5c0-1.1-.9-2-2-2zM9 17H7v-7h2v7zm4 0h-2V7h2v10zm4 0h-2v-4h2v4z\"/>\n",
              "    </g>\n",
              "</svg>\n",
              "  </button>\n",
              "\n",
              "<style>\n",
              "  .colab-df-quickchart {\n",
              "      --bg-color: #E8F0FE;\n",
              "      --fill-color: #1967D2;\n",
              "      --hover-bg-color: #E2EBFA;\n",
              "      --hover-fill-color: #174EA6;\n",
              "      --disabled-fill-color: #AAA;\n",
              "      --disabled-bg-color: #DDD;\n",
              "  }\n",
              "\n",
              "  [theme=dark] .colab-df-quickchart {\n",
              "      --bg-color: #3B4455;\n",
              "      --fill-color: #D2E3FC;\n",
              "      --hover-bg-color: #434B5C;\n",
              "      --hover-fill-color: #FFFFFF;\n",
              "      --disabled-bg-color: #3B4455;\n",
              "      --disabled-fill-color: #666;\n",
              "  }\n",
              "\n",
              "  .colab-df-quickchart {\n",
              "    background-color: var(--bg-color);\n",
              "    border: none;\n",
              "    border-radius: 50%;\n",
              "    cursor: pointer;\n",
              "    display: none;\n",
              "    fill: var(--fill-color);\n",
              "    height: 32px;\n",
              "    padding: 0;\n",
              "    width: 32px;\n",
              "  }\n",
              "\n",
              "  .colab-df-quickchart:hover {\n",
              "    background-color: var(--hover-bg-color);\n",
              "    box-shadow: 0 1px 2px rgba(60, 64, 67, 0.3), 0 1px 3px 1px rgba(60, 64, 67, 0.15);\n",
              "    fill: var(--button-hover-fill-color);\n",
              "  }\n",
              "\n",
              "  .colab-df-quickchart-complete:disabled,\n",
              "  .colab-df-quickchart-complete:disabled:hover {\n",
              "    background-color: var(--disabled-bg-color);\n",
              "    fill: var(--disabled-fill-color);\n",
              "    box-shadow: none;\n",
              "  }\n",
              "\n",
              "  .colab-df-spinner {\n",
              "    border: 2px solid var(--fill-color);\n",
              "    border-color: transparent;\n",
              "    border-bottom-color: var(--fill-color);\n",
              "    animation:\n",
              "      spin 1s steps(1) infinite;\n",
              "  }\n",
              "\n",
              "  @keyframes spin {\n",
              "    0% {\n",
              "      border-color: transparent;\n",
              "      border-bottom-color: var(--fill-color);\n",
              "      border-left-color: var(--fill-color);\n",
              "    }\n",
              "    20% {\n",
              "      border-color: transparent;\n",
              "      border-left-color: var(--fill-color);\n",
              "      border-top-color: var(--fill-color);\n",
              "    }\n",
              "    30% {\n",
              "      border-color: transparent;\n",
              "      border-left-color: var(--fill-color);\n",
              "      border-top-color: var(--fill-color);\n",
              "      border-right-color: var(--fill-color);\n",
              "    }\n",
              "    40% {\n",
              "      border-color: transparent;\n",
              "      border-right-color: var(--fill-color);\n",
              "      border-top-color: var(--fill-color);\n",
              "    }\n",
              "    60% {\n",
              "      border-color: transparent;\n",
              "      border-right-color: var(--fill-color);\n",
              "    }\n",
              "    80% {\n",
              "      border-color: transparent;\n",
              "      border-right-color: var(--fill-color);\n",
              "      border-bottom-color: var(--fill-color);\n",
              "    }\n",
              "    90% {\n",
              "      border-color: transparent;\n",
              "      border-bottom-color: var(--fill-color);\n",
              "    }\n",
              "  }\n",
              "</style>\n",
              "\n",
              "  <script>\n",
              "    async function quickchart(key) {\n",
              "      const quickchartButtonEl =\n",
              "        document.querySelector('#' + key + ' button');\n",
              "      quickchartButtonEl.disabled = true;  // To prevent multiple clicks.\n",
              "      quickchartButtonEl.classList.add('colab-df-spinner');\n",
              "      try {\n",
              "        const charts = await google.colab.kernel.invokeFunction(\n",
              "            'suggestCharts', [key], {});\n",
              "      } catch (error) {\n",
              "        console.error('Error during call to suggestCharts:', error);\n",
              "      }\n",
              "      quickchartButtonEl.classList.remove('colab-df-spinner');\n",
              "      quickchartButtonEl.classList.add('colab-df-quickchart-complete');\n",
              "    }\n",
              "    (() => {\n",
              "      let quickchartButtonEl =\n",
              "        document.querySelector('#df-7896e0d3-6af5-472f-bab4-2e2f62e457a5 button');\n",
              "      quickchartButtonEl.style.display =\n",
              "        google.colab.kernel.accessAllowed ? 'block' : 'none';\n",
              "    })();\n",
              "  </script>\n",
              "</div>\n",
              "    </div>\n",
              "  </div>\n"
            ]
          },
          "metadata": {},
          "execution_count": 31
        }
      ]
    },
    {
      "cell_type": "code",
      "source": [],
      "metadata": {
        "id": "Ae1wkrLzR3cA"
      },
      "execution_count": 31,
      "outputs": []
    }
  ]
}